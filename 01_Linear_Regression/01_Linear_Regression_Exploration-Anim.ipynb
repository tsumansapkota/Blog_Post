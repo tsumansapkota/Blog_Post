{
 "cells": [
  {
   "cell_type": "code",
   "execution_count": null,
   "metadata": {},
   "outputs": [],
   "source": [
    "import numpy as np\n",
    "import matplotlib\n",
    "\n",
    "import matplotlib.pyplot as plt\n",
    "from matplotlib import animation, rc\n",
    "from IPython.display import HTML\n",
    "\n",
    "rc('animation', html='jshtml')\n",
    "rc('savefig', dpi=100)\n",
    "matplotlib.rcParams[\"savefig.format\"] = 'svg'"
   ]
  },
  {
   "cell_type": "markdown",
   "metadata": {},
   "source": [
    "## Define dataset"
   ]
  },
  {
   "cell_type": "code",
   "execution_count": null,
   "metadata": {},
   "outputs": [],
   "source": [
    "# #Define a simple range of values for x and reshape so sklearn likes it.\n",
    "np.random.seed(127)\n",
    "x = np.linspace(0,1,200)\n",
    "noise = np.random.normal(0,0.02, x.shape)\n",
    "x = x + noise\n",
    "x = np.sort(x)\n",
    "\n",
    "# y= (2 * np.sin(10*x) + np.cos(20 * x - 3) + 3 * np.log(10*x + 0.5) - 4)/6.\n",
    "y = np.cos(x)+0.8*x -0.5 \n",
    "noise = np.random.normal(0,0.03, x.shape)\n",
    "y = y + noise\n",
    "x = x - 0.5\n",
    "\n",
    "%matplotlib inline\n",
    "plt.scatter(x, y, marker='.', color='g')\n",
    "plt.xlabel(\"X(input)\")\n",
    "plt.ylabel(\"y(output)\")\n",
    "plt.show()\n",
    "# plt.savefig(\"data_set.svg\")"
   ]
  },
  {
   "cell_type": "markdown",
   "metadata": {},
   "source": [
    "## Least Squares Method of Linear Regression"
   ]
  },
  {
   "cell_type": "code",
   "execution_count": null,
   "metadata": {},
   "outputs": [],
   "source": [
    "def regression(x,y):\n",
    "    n = len(x)\n",
    "    sy = np.sum(y)\n",
    "    sx = np.sum(x)\n",
    "    sx2 = np.sum(np.square(x))\n",
    "    sxy = np.sum(x*y)\n",
    "\n",
    "    # y = mx+c\n",
    "    z = (n*sx2 - sx**2)\n",
    "    m = (n*sxy - sx*sy)/z\n",
    "#     c = (sy*sx2 - sx*sxy)/z\n",
    "    c = (sy - m*sx)/n\n",
    "    return m, c\n",
    "\n",
    "def output(x, m, c):\n",
    "    return m*x+c\n",
    "\n",
    "def error(target, output): ### Root mean squared Error\n",
    "    return np.sqrt(np.square(target-output).mean())\n",
    "\n",
    "def error1(target, output): ### Mean Squared error\n",
    "    return np.square(target-output).mean()\n",
    "\n",
    "def error2(target, output): ### MODIFIED Mean Squared error\n",
    "    return np.square(target-output).mean()/2"
   ]
  },
  {
   "cell_type": "code",
   "execution_count": null,
   "metadata": {},
   "outputs": [],
   "source": [
    "m, c = regression(x, y)\n",
    "y_hat = output(x,m,c)\n",
    "plt.scatter(x, y, marker='.', color='g', label='data')\n",
    "plt.xlabel(\"X(input)\")\n",
    "plt.ylabel(\"y(output)\")\n",
    "\n",
    "plt.scatter(x, y_hat, marker='.', color='r', label='prediction')\n",
    "plt.legend()\n",
    "plt.show()"
   ]
  },
  {
   "cell_type": "code",
   "execution_count": null,
   "metadata": {},
   "outputs": [],
   "source": [
    "m, c"
   ]
  },
  {
   "cell_type": "code",
   "execution_count": null,
   "metadata": {},
   "outputs": [],
   "source": [
    "min_err = error1(y, y_hat)\n",
    "min_err"
   ]
  },
  {
   "cell_type": "code",
   "execution_count": null,
   "metadata": {},
   "outputs": [],
   "source": [
    "error_analytical = error2(y, y_hat)\n",
    "error_analytical"
   ]
  },
  {
   "cell_type": "code",
   "execution_count": null,
   "metadata": {},
   "outputs": [],
   "source": [
    "x_ = 0.1\n",
    "y_ = output(x_, m, c)\n",
    "\n",
    "plt.scatter(x, y, marker='.', color='g', label='data')\n",
    "plt.xlabel(\"X(input)\")\n",
    "plt.ylabel(\"y(output)\")\n",
    "\n",
    "plt.scatter(x, y_hat, marker='.', color='r', label='prediction')\n",
    "\n",
    "plt.scatter(x_, y_, marker='o', color='b', lw=4, label='test')\n",
    "\n",
    "plt.legend()\n",
    "plt.show()"
   ]
  },
  {
   "cell_type": "markdown",
   "metadata": {},
   "source": [
    "## Linear Regression using Linear Algebra"
   ]
  },
  {
   "cell_type": "code",
   "execution_count": null,
   "metadata": {},
   "outputs": [],
   "source": [
    "X = np.c_[x, np.ones(len(x))]\n",
    "X"
   ]
  },
  {
   "cell_type": "code",
   "execution_count": null,
   "metadata": {},
   "outputs": [],
   "source": [
    "X.shape"
   ]
  },
  {
   "cell_type": "code",
   "execution_count": null,
   "metadata": {},
   "outputs": [],
   "source": [
    "Y = y.reshape(-1,1) \n",
    "Y"
   ]
  },
  {
   "cell_type": "code",
   "execution_count": null,
   "metadata": {},
   "outputs": [],
   "source": [
    "Y.shape"
   ]
  },
  {
   "cell_type": "code",
   "execution_count": null,
   "metadata": {},
   "outputs": [],
   "source": [
    "W = np.linalg.pinv(X) @ Y\n",
    "W"
   ]
  },
  {
   "cell_type": "code",
   "execution_count": null,
   "metadata": {},
   "outputs": [],
   "source": [
    "W.shape"
   ]
  },
  {
   "cell_type": "code",
   "execution_count": null,
   "metadata": {},
   "outputs": [],
   "source": [
    "y_hat = X @ W\n",
    "X_ = np.array([[0.1, 1]])\n",
    "Y_ = X_ @ W\n",
    "\n",
    "plt.scatter(x, y, marker='.', color='g', label='data')\n",
    "plt.xlabel(\"X(input)\")\n",
    "plt.ylabel(\"y(output)\")\n",
    "\n",
    "plt.scatter(x, y_hat, marker='.', color='r', label='prediction')\n",
    "\n",
    "plt.scatter(X_[0,0], Y_, marker='o', color='b', lw=4, label='test')\n",
    "\n",
    "plt.legend()\n",
    "plt.show()"
   ]
  },
  {
   "cell_type": "markdown",
   "metadata": {},
   "source": [
    "## Linear Regression using Gradient descent"
   ]
  },
  {
   "cell_type": "markdown",
   "metadata": {},
   "source": [
    "#### Random Search"
   ]
  },
  {
   "cell_type": "code",
   "execution_count": null,
   "metadata": {},
   "outputs": [],
   "source": [
    "y.min(), y.max()"
   ]
  },
  {
   "cell_type": "code",
   "execution_count": null,
   "metadata": {},
   "outputs": [],
   "source": [
    "total = 100000\n",
    "min_err = 999999\n",
    "m_search = None\n",
    "c_search = None\n",
    "np.random.seed(127)\n",
    "y_hat_search = None\n",
    "for count in range(total):\n",
    "    theta = np.random.uniform(low=0, high=np.pi)\n",
    "    m_ = np.tan(theta)\n",
    "    c_ = np.random.uniform(low=0.425, high=0.909)\n",
    "    y_hat = output(x, m_, c_)\n",
    "    err = error1(y, y_hat)\n",
    "    if err < min_err:\n",
    "        min_err = err\n",
    "        m_search = m_\n",
    "        c_search = c_\n",
    "        y_hat_search = y_hat\n",
    "m_search, c_search"
   ]
  },
  {
   "cell_type": "code",
   "execution_count": null,
   "metadata": {},
   "outputs": [],
   "source": [
    "min_err"
   ]
  },
  {
   "cell_type": "code",
   "execution_count": null,
   "metadata": {},
   "outputs": [],
   "source": [
    "plt.scatter(x, y, marker='.', color='g', label='data')\n",
    "plt.xlabel(\"X(input)\")\n",
    "plt.ylabel(\"y(output)\")\n",
    "\n",
    "plt.scatter(x, y_hat_search, marker='.', color='r', label='prediction')\n",
    "plt.legend()\n",
    "plt.show()"
   ]
  },
  {
   "cell_type": "markdown",
   "metadata": {},
   "source": [
    "### Gradient Descent Search"
   ]
  },
  {
   "cell_type": "code",
   "execution_count": null,
   "metadata": {},
   "outputs": [],
   "source": [
    "E = 1e10\n",
    "Eprev = None"
   ]
  },
  {
   "cell_type": "code",
   "execution_count": null,
   "metadata": {},
   "outputs": [],
   "source": [
    "np.random.seed(129)\n",
    "m = np.random.normal(loc=1)\n",
    "c = np.random.uniform()\n",
    "m,c"
   ]
  },
  {
   "cell_type": "code",
   "execution_count": null,
   "metadata": {},
   "outputs": [],
   "source": [
    "n = len(x)\n",
    "alpha = 0.1\n",
    "epsilon = 1e-10\n",
    "\n",
    "val_list = []"
   ]
  },
  {
   "cell_type": "code",
   "execution_count": null,
   "metadata": {
    "scrolled": true
   },
   "outputs": [],
   "source": [
    "for step in range(10000000):\n",
    "    #### Set Previous error\n",
    "    Eprev = E    \n",
    "    #### calculating output\n",
    "    y_hat = output(x, m, c)\n",
    "    #### calculating error\n",
    "    E = error2(y, y_hat)\n",
    "\n",
    "    #### calculating gradients\n",
    "    dy = y_hat - y\n",
    "    dm = (dy*x).sum()/n\n",
    "    dc = dy.sum()/n\n",
    "\n",
    "    m = m - alpha*dm\n",
    "    c = c - alpha*dc\n",
    "\n",
    "\n",
    "    if step%10 == 0:\n",
    "        print(\"step = \",step)\n",
    "        print(\"Error = \", E)\n",
    "        \n",
    "        val_list.append((E,m,c,step))\n",
    "\n",
    "        if Eprev-E < epsilon:\n",
    "            print('Optimized to our threshold')\n",
    "            break"
   ]
  },
  {
   "cell_type": "code",
   "execution_count": null,
   "metadata": {},
   "outputs": [],
   "source": [
    "emcs = np.array(val_list)\n",
    "emcs.shape"
   ]
  },
  {
   "cell_type": "code",
   "execution_count": null,
   "metadata": {},
   "outputs": [],
   "source": [
    "fig = plt.figure()\n",
    "ax = fig.add_subplot(1, 1, 1)\n",
    "plt.close()\n",
    "\n",
    "# animation function. This is called sequentially  \n",
    "def animate(i):\n",
    "    emcs_i = emcs[i]\n",
    "    E, m, c, step = emcs_i.tolist()\n",
    "    step = int(step)\n",
    "    \n",
    "    y_hat = output(x, m, c)    \n",
    "    \n",
    "    ax.clear()\n",
    "    ax.set_xlim((-0.5679472377938085, 0.5638641593022863))\n",
    "    ax.set_ylim((0.39317623114955275, 0.9407836786747326))\n",
    "\n",
    "    ax.scatter(x, y, marker='.', color='g', label='data')\n",
    "    ax.scatter(x, y_hat, marker='.', color='r', label='prediction')\n",
    "    ax.text(-0.43,0.97,f'Step={step}, E={E:.6f} --> m={m:.5f} c={c:.5f}')\n",
    "\n",
    "\n",
    "anim = animation.FuncAnimation(fig, animate,\n",
    "                             frames=len(emcs), interval=100)\n",
    "\n",
    "rc('animation', html='jshtml')\n",
    "anim"
   ]
  },
  {
   "cell_type": "code",
   "execution_count": null,
   "metadata": {},
   "outputs": [],
   "source": [
    "m,c"
   ]
  },
  {
   "cell_type": "code",
   "execution_count": null,
   "metadata": {},
   "outputs": [],
   "source": [
    "y_hat = output(x, m, c)\n",
    "#### calculating mean squared error\n",
    "error1(y, y_hat), error2(y, y_hat)"
   ]
  },
  {
   "cell_type": "markdown",
   "metadata": {},
   "source": [
    "### Plotting the error surface and optimization trajectory"
   ]
  },
  {
   "cell_type": "code",
   "execution_count": null,
   "metadata": {},
   "outputs": [],
   "source": [
    "num_points = 100\n",
    "mgM = np.linspace(-0.8, 1.2, num_points)  ## for mesh grid\n",
    "mgC = np.linspace(0.4, 1, num_points)"
   ]
  },
  {
   "cell_type": "code",
   "execution_count": null,
   "metadata": {},
   "outputs": [],
   "source": [
    "mgM.shape , mgC.shape"
   ]
  },
  {
   "cell_type": "code",
   "execution_count": null,
   "metadata": {},
   "outputs": [],
   "source": [
    "mgM, mgC = np.meshgrid(mgM, mgC)"
   ]
  },
  {
   "cell_type": "code",
   "execution_count": null,
   "metadata": {},
   "outputs": [],
   "source": [
    "mgE = np.array([error2(y, output(x, mgm, mgc)) \\\n",
    "                for mgm, mgc in zip(np.ravel(mgM), np.ravel(mgC))]).reshape(mgM.shape)"
   ]
  },
  {
   "cell_type": "code",
   "execution_count": null,
   "metadata": {},
   "outputs": [],
   "source": [
    "mgE.shape"
   ]
  },
  {
   "cell_type": "code",
   "execution_count": null,
   "metadata": {},
   "outputs": [],
   "source": [
    "from mpl_toolkits.mplot3d import Axes3D\n",
    "# matplotlib.rcParams['figure.figsize'] = (12, 8)"
   ]
  },
  {
   "cell_type": "code",
   "execution_count": null,
   "metadata": {},
   "outputs": [],
   "source": [
    "fig = plt.figure()\n",
    "ax = fig.add_subplot(111, projection='3d')\n",
    "\n",
    "ax.plot_surface(mgM, mgC, mgE)\n",
    "ax.set_xlabel('m')\n",
    "ax.set_ylabel('c')\n",
    "ax.set_zlabel('E')\n",
    "\n",
    "plt.show()"
   ]
  },
  {
   "cell_type": "code",
   "execution_count": null,
   "metadata": {},
   "outputs": [],
   "source": [
    "%matplotlib inline\n",
    "# ratio = 25/18\n",
    "# width, height = int(8*ratio), int(6*ratio)\n",
    "fig = plt.figure()#figsize=(8,6))\n",
    "ax = fig.gca(projection='3d')\n",
    "plt.close()\n",
    "\n",
    "#set initial viewing angles\n",
    "azimuth, elev = -36, 41\n",
    "ax.view_init(elev, azimuth )\n",
    "\n",
    "# animation function. This is called sequentially  \n",
    "def animate(step):\n",
    "    if step%10 == 0:\n",
    "        print(f\"Step {step}\")\n",
    "    E_, m_, c_, iterations = emcs[step].tolist()\n",
    "\n",
    "    ax.clear()\n",
    "    ax.plot_surface(mgM, mgC, mgE, cmap='hot', alpha=0.7)\n",
    "    ax.scatter(emcs[step,1],emcs[step,2], emcs[step,0], c='g', lw=3)\n",
    "    ax.plot(xs=emcs[:step,1], ys=emcs[:step,2], zs=emcs[:step,0],c='orange', lw=2)\n",
    "    ax.set_xlabel('m')\n",
    "    ax.set_ylabel('c')\n",
    "    ax.set_zlabel('E')\n",
    "\n",
    "    iterations = int(iterations)\n",
    "    ax.text(-0.85,0.4,0.15,f'Step={iterations}, E={E_:.6f} --> m={m_:.5f} c={c_:.5f}')\n",
    "\n",
    "\n",
    "anim = animation.FuncAnimation(fig, animate, init_func=lambda:None,\n",
    "                             frames=len(emcs), interval=100)"
   ]
  },
  {
   "cell_type": "code",
   "execution_count": null,
   "metadata": {},
   "outputs": [],
   "source": [
    "anim"
   ]
  },
  {
   "cell_type": "code",
   "execution_count": null,
   "metadata": {
    "scrolled": false
   },
   "outputs": [],
   "source": [
    "\n",
    "HTML(anim.to_html5_video())"
   ]
  },
  {
   "cell_type": "code",
   "execution_count": null,
   "metadata": {},
   "outputs": [],
   "source": [
    "writer_gif = animation.ImageMagickWriter(fps=10)\n",
    "anim.save('error_surface_gd_1.gif', writer=writer_gif, dpi=100)"
   ]
  },
  {
   "cell_type": "code",
   "execution_count": null,
   "metadata": {},
   "outputs": [],
   "source": [
    "errs = val_mat[:,0]"
   ]
  },
  {
   "cell_type": "code",
   "execution_count": null,
   "metadata": {},
   "outputs": [],
   "source": [
    "%matplotlib inline\n",
    "plt.xlabel(\"Steps\")\n",
    "plt.ylabel(\"Error(modified)\")\n",
    "plt.plot([0, len(errs)], [error_analytical, error_analytical], label=\"Error (analytical)\")\n",
    "plt.plot(errs, label=\"Error (gradient descent)\")\n",
    "plt.legend()\n",
    "\n",
    "# plt.savefig(\"error_plot_step.svg\")"
   ]
  },
  {
   "cell_type": "code",
   "execution_count": null,
   "metadata": {},
   "outputs": [],
   "source": [
    "plt.plot(val_mat[:,1]) ## This is the slope value wrt steps"
   ]
  },
  {
   "cell_type": "code",
   "execution_count": null,
   "metadata": {
    "scrolled": true
   },
   "outputs": [],
   "source": [
    "plt.plot(val_mat[:,2]) ## This is the y-intercept value wrt steps"
   ]
  },
  {
   "cell_type": "code",
   "execution_count": null,
   "metadata": {},
   "outputs": [],
   "source": [
    "###### This is for feature image\n",
    "\n",
    "matplotlib.rcParams['figure.figsize'] = (16, 8)\n",
    "m, c = regression(x, y)\n",
    "y_hat = output(x,m,c)\n",
    "plt.scatter(x, y, marker='o', color='g', label='data', alpha=0.5)\n",
    "plt.xlabel(\"X(input)\")\n",
    "plt.ylabel(\"y(output)\")\n",
    "\n",
    "# plt.plot(x, y_hat, marker='o', color='r', label='prediction', alpha=0.5)\n",
    "plt.plot(x, y_hat, color='r', lw=5, label='prediction', alpha=0.5)\n",
    "plt.legend()\n",
    "# plt.savefig(\"regression_feature.svg\")"
   ]
  }
 ],
 "metadata": {
  "kernelspec": {
   "display_name": "Python 3",
   "language": "python",
   "name": "python3"
  },
  "language_info": {
   "codemirror_mode": {
    "name": "ipython",
    "version": 3
   },
   "file_extension": ".py",
   "mimetype": "text/x-python",
   "name": "python",
   "nbconvert_exporter": "python",
   "pygments_lexer": "ipython3",
   "version": "3.7.4"
  }
 },
 "nbformat": 4,
 "nbformat_minor": 2
}
