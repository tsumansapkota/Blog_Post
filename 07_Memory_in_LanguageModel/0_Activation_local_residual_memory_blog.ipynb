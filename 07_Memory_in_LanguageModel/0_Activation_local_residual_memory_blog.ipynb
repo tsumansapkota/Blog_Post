{
 "cells": [
  {
   "cell_type": "code",
   "execution_count": 1,
   "id": "0feac2ba",
   "metadata": {},
   "outputs": [],
   "source": [
    "import matplotlib.pyplot as plt\n",
    "import numpy as np\n",
    "import torch"
   ]
  },
  {
   "cell_type": "code",
   "execution_count": 2,
   "id": "initial_id",
   "metadata": {
    "ExecuteTime": {
     "end_time": "2024-08-22T07:52:17.997164Z",
     "start_time": "2024-08-22T07:52:16.301080Z"
    }
   },
   "outputs": [],
   "source": [
    "import plotly.express as px\n",
    "from nnsight import LanguageModel, util\n",
    "from nnsight.tracing.Proxy import Proxy"
   ]
  },
  {
   "cell_type": "code",
   "execution_count": 3,
   "id": "5a7ef21e",
   "metadata": {},
   "outputs": [],
   "source": [
    "import warnings\n",
    "# warnings.filterwarnings('ignore')\n",
    "warnings.filterwarnings(action='once')"
   ]
  },
  {
   "cell_type": "code",
   "execution_count": 4,
   "id": "210d9d76",
   "metadata": {},
   "outputs": [
    {
     "name": "stderr",
     "output_type": "stream",
     "text": [
      "/home/tsuman/ProgramFiles/miniconda3/lib/python3.11/site-packages/transformers/tokenization_utils_base.py:1601: FutureWarning: `clean_up_tokenization_spaces` was not set. It will be set to `True` by default. This behavior will be depracted in transformers v4.45, and will be then set to `False` by default. For more details check this issue: https://github.com/huggingface/transformers/issues/31884\n",
      "  warnings.warn(\n"
     ]
    }
   ],
   "source": [
    "model = LanguageModel(\"openai-community/gpt2\", device_map=\"cuda:0\")"
   ]
  },
  {
   "cell_type": "code",
   "execution_count": 5,
   "id": "85d9852a",
   "metadata": {},
   "outputs": [
    {
     "data": {
      "text/plain": [
       "GPT2LMHeadModel(\n",
       "  (transformer): GPT2Model(\n",
       "    (wte): Embedding(50257, 768)\n",
       "    (wpe): Embedding(1024, 768)\n",
       "    (drop): Dropout(p=0.1, inplace=False)\n",
       "    (h): ModuleList(\n",
       "      (0-11): 12 x GPT2Block(\n",
       "        (ln_1): LayerNorm((768,), eps=1e-05, elementwise_affine=True)\n",
       "        (attn): GPT2SdpaAttention(\n",
       "          (c_attn): Conv1D()\n",
       "          (c_proj): Conv1D()\n",
       "          (attn_dropout): Dropout(p=0.1, inplace=False)\n",
       "          (resid_dropout): Dropout(p=0.1, inplace=False)\n",
       "        )\n",
       "        (ln_2): LayerNorm((768,), eps=1e-05, elementwise_affine=True)\n",
       "        (mlp): GPT2MLP(\n",
       "          (c_fc): Conv1D()\n",
       "          (c_proj): Conv1D()\n",
       "          (act): NewGELUActivation()\n",
       "          (dropout): Dropout(p=0.1, inplace=False)\n",
       "        )\n",
       "      )\n",
       "    )\n",
       "    (ln_f): LayerNorm((768,), eps=1e-05, elementwise_affine=True)\n",
       "  )\n",
       "  (lm_head): Linear(in_features=768, out_features=50257, bias=False)\n",
       "  (generator): WrapperModule()\n",
       ")"
      ]
     },
     "execution_count": 5,
     "metadata": {},
     "output_type": "execute_result"
    }
   ],
   "source": [
    "model"
   ]
  },
  {
   "cell_type": "code",
   "execution_count": 6,
   "id": "9391b9d4",
   "metadata": {},
   "outputs": [],
   "source": [
    "#### Use Attention or MLP for patching the transformer\n",
    "#####################\n",
    "att_mlp = \"attn\"\n",
    "# att_mlp = \"mlp\"\n",
    "#####################"
   ]
  },
  {
   "cell_type": "code",
   "execution_count": 7,
   "id": "5e59091b",
   "metadata": {},
   "outputs": [],
   "source": [
    "# ### For true output correction (uncomment)\n",
    "# labl = \"pos\"\n",
    "# test_prompts = [\"The capital city of Nepal is located in\",\n",
    "#                \"The capital city of Nepal is\",\n",
    "#                \"The capital city of Nepal is in\"]"
   ]
  },
  {
   "cell_type": "code",
   "execution_count": 8,
   "id": "bd0ef1c7",
   "metadata": {},
   "outputs": [],
   "source": [
    "### For false output correction (uncomment)\n",
    "labl = \"neg\"\n",
    "test_prompts = [\"The city of Tokyo lies in the country of\",\n",
    "               \"The Tokyo city lies in\",\n",
    "               \"The Tokyo city is located in the country of\"]"
   ]
  },
  {
   "cell_type": "code",
   "execution_count": 9,
   "id": "5876bbd3",
   "metadata": {},
   "outputs": [
    {
     "name": "stderr",
     "output_type": "stream",
     "text": [
      "Setting `pad_token_id` to `eos_token_id`:FakeTensor(..., device='meta', size=(), dtype=torch.int64) for open-end generation.\n",
      "`eos_token_id` should consist of positive integers, but is FakeTensor(..., device='meta', size=(1,), dtype=torch.int64). Your generation will not stop until the maximum length is reached. Depending on other flags, it may even crash.\n",
      "You're using a GPT2TokenizerFast tokenizer. Please note that with a fast tokenizer, using the `__call__` method is faster than using a method to encode the text followed by a call to the `pad` method to get a padded encoding.\n",
      "Setting `pad_token_id` to `eos_token_id`:50256 for open-end generation.\n",
      "Setting `pad_token_id` to `eos_token_id`:FakeTensor(..., device='cuda:0', size=(), dtype=torch.int64) for open-end generation.\n",
      "`eos_token_id` should consist of positive integers, but is FakeTensor(..., device='cuda:0', size=(1,), dtype=torch.int64). Your generation will not stop until the maximum length is reached. Depending on other flags, it may even crash.\n",
      "Setting `pad_token_id` to `eos_token_id`:50256 for open-end generation.\n",
      "Setting `pad_token_id` to `eos_token_id`:FakeTensor(..., device='cuda:0', size=(), dtype=torch.int64) for open-end generation.\n",
      "`eos_token_id` should consist of positive integers, but is FakeTensor(..., device='cuda:0', size=(1,), dtype=torch.int64). Your generation will not stop until the maximum length is reached. Depending on other flags, it may even crash.\n"
     ]
    },
    {
     "name": "stdout",
     "output_type": "stream",
     "text": [
      "The city of Tokyo lies in the country of Japan, and the city is known for its high\n",
      "The Tokyo city lies in the heart of the world's largest oil and gas\n"
     ]
    },
    {
     "name": "stderr",
     "output_type": "stream",
     "text": [
      "Setting `pad_token_id` to `eos_token_id`:50256 for open-end generation.\n"
     ]
    },
    {
     "name": "stdout",
     "output_type": "stream",
     "text": [
      "The Tokyo city is located in the country of Japan, and is home to the largest number of\n"
     ]
    }
   ],
   "source": [
    "for prompt in test_prompts:\n",
    "    # with model.generate(prompt, max_new_tokens=len(enc)):\n",
    "    with model.generate(prompt, max_new_tokens=10):\n",
    "        output = model.generator.output.save()\n",
    "    print(model.tokenizer.decode(output[0]))"
   ]
  },
  {
   "cell_type": "markdown",
   "id": "c74f8320",
   "metadata": {},
   "source": [
    "### To modify the answer based on prompt"
   ]
  },
  {
   "cell_type": "code",
   "execution_count": 10,
   "id": "9582476b",
   "metadata": {},
   "outputs": [
    {
     "data": {
      "text/plain": [
       "'The city of Tokyo lies in the country of'"
      ]
     },
     "execution_count": 10,
     "metadata": {},
     "output_type": "execute_result"
    }
   ],
   "source": [
    "prompt = test_prompts[0]\n",
    "prompt"
   ]
  },
  {
   "cell_type": "code",
   "execution_count": 11,
   "id": "e90216cf",
   "metadata": {},
   "outputs": [
    {
     "data": {
      "text/plain": [
       "[464, 1748, 286, 11790, 7363, 287, 262, 1499, 286]"
      ]
     },
     "execution_count": 11,
     "metadata": {},
     "output_type": "execute_result"
    }
   ],
   "source": [
    "prompt_token = model.tokenizer.encode(prompt)\n",
    "prompt_token"
   ]
  },
  {
   "cell_type": "code",
   "execution_count": 12,
   "id": "7085cbba",
   "metadata": {},
   "outputs": [],
   "source": [
    "exp_answer = \" Kathmandu\""
   ]
  },
  {
   "cell_type": "code",
   "execution_count": 13,
   "id": "af5b62c9",
   "metadata": {},
   "outputs": [
    {
     "name": "stdout",
     "output_type": "stream",
     "text": [
      "K-ath-mand-u-\n",
      " Kath-mand-u-"
     ]
    },
    {
     "data": {
      "text/plain": [
       "[18341, 22249, 84]"
      ]
     },
     "execution_count": 13,
     "metadata": {},
     "output_type": "execute_result"
    }
   ],
   "source": [
    "## space creates different encoding\n",
    "enc = model.tokenizer.encode(exp_answer.strip())\n",
    "for t in enc:\n",
    "    print(model.tokenizer.decode(t), end=\"-\")\n",
    "print()\n",
    "enc = model.tokenizer.encode(exp_answer)\n",
    "for t in enc:\n",
    "    print(model.tokenizer.decode(t), end=\"-\")\n",
    "enc"
   ]
  },
  {
   "cell_type": "code",
   "execution_count": 14,
   "id": "e66c83dc",
   "metadata": {},
   "outputs": [
    {
     "data": {
      "text/plain": [
       "tensor([18341, 22249,    84], device='cuda:0')"
      ]
     },
     "execution_count": 14,
     "metadata": {},
     "output_type": "execute_result"
    }
   ],
   "source": [
    "answer_token = torch.tensor(enc, dtype=torch.long).to(\"cuda:0\")\n",
    "answer_token"
   ]
  },
  {
   "cell_type": "code",
   "execution_count": 15,
   "id": "28870be4",
   "metadata": {},
   "outputs": [],
   "source": [
    "celoss = torch.nn.CrossEntropyLoss()"
   ]
  },
  {
   "cell_type": "markdown",
   "id": "7f4cda91",
   "metadata": {},
   "source": [
    "#### Analyze activation and gradient"
   ]
  },
  {
   "cell_type": "code",
   "execution_count": 16,
   "id": "df3b786b",
   "metadata": {},
   "outputs": [],
   "source": [
    "attention_actv = []\n",
    "attention_grads = []\n",
    "\n",
    "with model.trace() as tracer:\n",
    "    with tracer.invoke(prompt_token) as invoker:\n",
    "#         print(model.transformer.h)\n",
    "        for layer in model.transformer.h:\n",
    "#             attn_out = layer.attn.c_proj.input[0][0]\n",
    "            attn_out = getattr(layer, att_mlp).c_proj.input[0][0]\n",
    "            attention_actv.append(attn_out.save())\n",
    "            attention_grads.append(attn_out.grad.save())\n",
    "\n",
    "        logits = model.lm_head.output[:,-1].save()\n",
    "        value = celoss(logits, answer_token[0].unsqueeze(-1))\n",
    "        value.backward()"
   ]
  },
  {
   "cell_type": "code",
   "execution_count": 17,
   "id": "fe4d2678",
   "metadata": {},
   "outputs": [
    {
     "data": {
      "text/plain": [
       "tensor([2869], device='cuda:0')"
      ]
     },
     "execution_count": 17,
     "metadata": {},
     "output_type": "execute_result"
    }
   ],
   "source": [
    "logits.argmax(-1)"
   ]
  },
  {
   "cell_type": "code",
   "execution_count": 18,
   "id": "d9c1c92f",
   "metadata": {},
   "outputs": [
    {
     "data": {
      "text/plain": [
       "' Japan'"
      ]
     },
     "execution_count": 18,
     "metadata": {},
     "output_type": "execute_result"
    }
   ],
   "source": [
    "### predicted output\n",
    "model.tokenizer.decode(logits.argmax(-1))"
   ]
  },
  {
   "cell_type": "code",
   "execution_count": 19,
   "id": "88f973ca",
   "metadata": {},
   "outputs": [
    {
     "data": {
      "text/plain": [
       "' Kath'"
      ]
     },
     "execution_count": 19,
     "metadata": {},
     "output_type": "execute_result"
    }
   ],
   "source": [
    "### target output\n",
    "model.tokenizer.decode(answer_token[0].unsqueeze(-1))"
   ]
  },
  {
   "cell_type": "markdown",
   "id": "f75c9b19",
   "metadata": {},
   "source": [
    "#### Visualize activation magnitude and gradient mag"
   ]
  },
  {
   "cell_type": "code",
   "execution_count": 20,
   "id": "12d73a06",
   "metadata": {},
   "outputs": [
    {
     "name": "stderr",
     "output_type": "stream",
     "text": [
      "/tmp/ipykernel_24424/2391357683.py:9: UserWarning: Creating a tensor from a list of numpy.ndarrays is extremely slow. Please consider converting the list to a single numpy.ndarray with numpy.array() before converting to a tensor. (Triggered internally at /opt/conda/conda-bld/pytorch_1729647348947/work/torch/csrc/utils/tensor_new.cpp:278.)\n",
      "  _mag_actv = torch.tensor(_mag_actv)\n"
     ]
    }
   ],
   "source": [
    "_mag_actv = []\n",
    "_mag_grad = []\n",
    "for i in range(len(attention_actv)):\n",
    "    #### Norm\n",
    "    m1 = attention_actv[i].data[0].norm(dim=-1).cpu().numpy()\n",
    "    m2 = attention_grads[i].data[0].norm(dim=-1).cpu().numpy()\n",
    "    _mag_actv.append(m1)\n",
    "    _mag_grad.append(m2)\n",
    "_mag_actv = torch.tensor(_mag_actv)    \n",
    "_mag_grad = torch.tensor(_mag_grad)    "
   ]
  },
  {
   "cell_type": "code",
   "execution_count": 21,
   "id": "eedf56a6",
   "metadata": {},
   "outputs": [],
   "source": [
    "_mag_actv[-1, 0] = 0. ## seems high and effects the othe actv plot"
   ]
  },
  {
   "cell_type": "code",
   "execution_count": 22,
   "id": "8b996b46",
   "metadata": {},
   "outputs": [
    {
     "data": {
      "image/png": "[encoded data removed]",
      "text/plain": [
       "<Figure size 640x480 with 2 Axes>"
      ]
     },
     "metadata": {},
     "output_type": "display_data"
    },
    {
     "data": {
      "image/png": "[encoded data removed]",
      "text/plain": [
       "<Figure size 640x480 with 2 Axes>"
      ]
     },
     "metadata": {},
     "output_type": "display_data"
    }
   ],
   "source": [
    "plt.imshow(_mag_actv)\n",
    "plt.colorbar()\n",
    "plt.xlabel(\"tokens\"); plt.ylabel(\"layers\")\n",
    "plt.show()\n",
    "plt.imshow(_mag_grad)\n",
    "plt.colorbar()\n",
    "plt.xlabel(\"tokens\"); plt.ylabel(\"layers\")\n",
    "plt.show()"
   ]
  },
  {
   "cell_type": "code",
   "execution_count": 23,
   "id": "ac59cdfb",
   "metadata": {},
   "outputs": [
    {
     "data": {
      "text/plain": [
       "tensor(8.4661)"
      ]
     },
     "execution_count": 23,
     "metadata": {},
     "output_type": "execute_result"
    }
   ],
   "source": [
    "### estimated value of magnitude of scaling (or learning rate)\n",
    "_mag_actv.mean()/_mag_grad.mean()"
   ]
  },
  {
   "cell_type": "markdown",
   "id": "1294ef1e",
   "metadata": {},
   "source": [
    "### Patching the tokens and layers 1 by 1"
   ]
  },
  {
   "cell_type": "code",
   "execution_count": 24,
   "id": "87d243f0",
   "metadata": {},
   "outputs": [],
   "source": [
    "alpha = 10.0 ## works best for tokyo\n",
    "# alpha = 1.0 ## works best for nepal\n",
    "\n",
    "patching_results = []\n",
    "patching_loss = []\n",
    "with model.trace() as tracer:\n",
    "\n",
    "    # Iterate through all the layers\n",
    "    for layer_idx in range(len(model.transformer.h)):\n",
    "        _patching_results = []\n",
    "        _patching_loss = []\n",
    "\n",
    "        # Iterate through all tokens\n",
    "        for token_idx in range(len(prompt_token)):\n",
    "\n",
    "            # Patching at given layer and token\n",
    "            with tracer.invoke(prompt_token) as invoker:\n",
    "#                 l = model.transformer.h[layer_idx].attn.c_proj\n",
    "                l = getattr(model.transformer.h[layer_idx], att_mlp).c_proj\n",
    "                \n",
    "                l.input[0][0].t[token_idx] -= \\\n",
    "                            alpha*attention_grads[layer_idx][:, token_idx, :]\n",
    "                \n",
    "                patched_logits = model.lm_head.output.argmax(-1)[0].save()\n",
    "                _patching_results.append(patched_logits)\n",
    "                \n",
    "                vv = model.lm_head.output[:, -1, :]\n",
    "                patched_loss = celoss(vv, answer_token[0].unsqueeze(-1)).data.cpu().save()\n",
    "                _patching_loss.append(patched_loss)\n",
    "#             break\n",
    "        patching_results.append(_patching_results)\n",
    "        patching_loss.append(_patching_loss)\n",
    "#         break"
   ]
  },
  {
   "cell_type": "code",
   "execution_count": 25,
   "id": "f160ee88",
   "metadata": {},
   "outputs": [
    {
     "data": {
      "text/plain": [
       "Text(0, 0.5, 'layers')"
      ]
     },
     "execution_count": 25,
     "metadata": {},
     "output_type": "execute_result"
    },
    {
     "data": {
      "image/png": "[encoded data removed]",
      "text/plain": [
       "<Figure size 640x480 with 2 Axes>"
      ]
     },
     "metadata": {},
     "output_type": "display_data"
    }
   ],
   "source": [
    "patching_loss = torch.Tensor([[p.item() for p in q] for q in patching_loss])\n",
    "plt.imshow(patching_loss)\n",
    "plt.colorbar()\n",
    "plt.xlabel(\"tokens\"); plt.ylabel(\"layers\")\n",
    "# plt.savefig(f\"./{labl}_{att_mlp}_patch_loss.svg\", bbox_inches=\"tight\")"
   ]
  },
  {
   "cell_type": "code",
   "execution_count": 26,
   "id": "ff72f9e6",
   "metadata": {},
   "outputs": [],
   "source": [
    "patching_results = torch.tensor(patching_results)"
   ]
  },
  {
   "cell_type": "code",
   "execution_count": 27,
   "id": "750252a8",
   "metadata": {},
   "outputs": [
    {
     "data": {
      "text/plain": [
       "tensor([[ 9,  8],\n",
       "        [10,  8],\n",
       "        [11,  8]])"
      ]
     },
     "execution_count": 27,
     "metadata": {},
     "output_type": "execute_result"
    }
   ],
   "source": [
    "answer_loc = torch.nonzero(patching_results[:,:,-1] == answer_token[0].cpu())\n",
    "answer_loc"
   ]
  },
  {
   "cell_type": "code",
   "execution_count": 28,
   "id": "f4dd2383",
   "metadata": {},
   "outputs": [
    {
     "data": {
      "text/plain": [
       "Text(0, 0.5, 'layers')"
      ]
     },
     "execution_count": 28,
     "metadata": {},
     "output_type": "execute_result"
    },
    {
     "data": {
      "image/png": "[encoded data removed]",
      "text/plain": [
       "<Figure size 640x480 with 2 Axes>"
      ]
     },
     "metadata": {},
     "output_type": "display_data"
    }
   ],
   "source": [
    "### can lower/increase learning rate to reduce/gain possible areas of success..\n",
    "imp = plt.imshow(patching_results[:,:,-1] == answer_token[0].cpu())\n",
    "plt.colorbar(imp)\n",
    "plt.xlabel(\"tokens\"); plt.ylabel(\"layers\")\n",
    "# plt.savefig(f\"./{labl}_{att_mlp}_patch_success.svg\", bbox_inches=\"tight\")"
   ]
  },
  {
   "cell_type": "code",
   "execution_count": 29,
   "id": "a076483e",
   "metadata": {},
   "outputs": [
    {
     "data": {
      "text/plain": [
       "[' Japan Japan Japan the the Japan Japan the\\n',\n",
       " ' Japan Japan Japan the the the the the the',\n",
       " ' Japan Japan Japan the the the the the the',\n",
       " ' Japan Japan Japan the Japan the Japan the a',\n",
       " ' Japan Japan Japan the Japan Japan Japan the the',\n",
       " ' Japan Japan Japan the Japan Japan Japan the the',\n",
       " ' Japan Japan Japan the Japan Japan Japan Japan the',\n",
       " ' Japan Japan Japan the Japan Japan Japan Japan the',\n",
       " ' Japan Japan Japan the Japan Japan Japan Japan the',\n",
       " ' Japan Japan Japan Japan Japan Japan Japan Japan Kath',\n",
       " ' Japan Japan Japan Japan Japan Japan Japan Japan Kath',\n",
       " ' Japan Japan Japan Japan Japan Japan Japan Japan Kath']"
      ]
     },
     "execution_count": 29,
     "metadata": {},
     "output_type": "execute_result"
    }
   ],
   "source": [
    "model.tokenizer.batch_decode(patching_results[:,:, -1]) ## last tokens predicted in patching of grid[layer, token]"
   ]
  },
  {
   "cell_type": "code",
   "execution_count": 30,
   "id": "bbc5a150",
   "metadata": {},
   "outputs": [
    {
     "data": {
      "text/plain": [
       "(12, 9, 9)"
      ]
     },
     "execution_count": 30,
     "metadata": {},
     "output_type": "execute_result"
    }
   ],
   "source": [
    "### batch decode needs reshaping to work\n",
    "s = patching_results.shape\n",
    "out = model.tokenizer.batch_decode(patching_results.reshape(s[0]*s[1]*s[2]).tolist())\n",
    "out = np.array(out).reshape(*s)\n",
    "out.shape"
   ]
  },
  {
   "cell_type": "code",
   "execution_count": 31,
   "id": "34cdbb3c",
   "metadata": {},
   "outputs": [
    {
     "data": {
      "text/plain": [
       "array(['\\n', \"'s\", ' New', ' has', ' in', ' the', ' heart', \"'s\", ' Kath'],\n",
       "      dtype='<U11')"
      ]
     },
     "execution_count": 31,
     "metadata": {},
     "output_type": "execute_result"
    }
   ],
   "source": [
    "### Output of each prompt token (sometimes output is created in middle representation)\n",
    "out[*answer_loc[0]]"
   ]
  },
  {
   "cell_type": "markdown",
   "id": "c2b8be16",
   "metadata": {},
   "source": [
    "### Memorize\n",
    "- For given patching location (layer, token)\n",
    "- For Attention Wout is shared for all tokens, we patch it for layer\n",
    "- The memory lookup is the activation\n",
    "- The output for the memory match is the residual output (or delta)"
   ]
  },
  {
   "cell_type": "code",
   "execution_count": 32,
   "id": "ee9604da",
   "metadata": {},
   "outputs": [
    {
     "data": {
      "text/plain": [
       "tensor(9)"
      ]
     },
     "execution_count": 32,
     "metadata": {},
     "output_type": "execute_result"
    }
   ],
   "source": [
    "target_layer, target_token_idx = answer_loc[0]\n",
    "target_layer"
   ]
  },
  {
   "cell_type": "markdown",
   "id": "0cc9a28f",
   "metadata": {},
   "source": [
    "##### get activations of the target_token target layer"
   ]
  },
  {
   "cell_type": "code",
   "execution_count": 33,
   "id": "042b389e",
   "metadata": {},
   "outputs": [],
   "source": [
    "actv = None\n",
    "grads = None\n",
    "\n",
    "with model.trace() as tracer:\n",
    "    with tracer.invoke(prompt_token) as invoker:\n",
    "#         l = model.transformer.h[target_layer].attn.c_proj\n",
    "        l = getattr(model.transformer.h[target_layer], att_mlp).c_proj\n",
    "        actv = l.input[0][0].save()#\n",
    "        grads = l.input[0][0].grad.save()\n",
    "\n",
    "        logits = model.lm_head.output[:,-1].save()\n",
    "        value = celoss(logits, answer_token[0].unsqueeze(-1))\n",
    "        value.backward()"
   ]
  },
  {
   "cell_type": "code",
   "execution_count": 34,
   "id": "d002a6fe",
   "metadata": {},
   "outputs": [
    {
     "data": {
      "text/plain": [
       "(torch.Size([1, 9, 768]), torch.Size([1, 9, 768]))"
      ]
     },
     "execution_count": 34,
     "metadata": {},
     "output_type": "execute_result"
    }
   ],
   "source": [
    "actv.shape, grads.shape"
   ]
  },
  {
   "cell_type": "code",
   "execution_count": 35,
   "id": "df2ff898",
   "metadata": {},
   "outputs": [
    {
     "data": {
      "text/plain": [
       "(tensor([[2.1122, 2.2740, 2.9898, 3.2431, 2.2604, 5.8036, 8.0075, 5.2211, 6.5828]],\n",
       "        device='cuda:0'),\n",
       " tensor([[0.1457, 0.0929, 0.0651, 0.6076, 0.0890, 0.2729, 0.0781, 0.1029, 2.5837]],\n",
       "        device='cuda:0'))"
      ]
     },
     "execution_count": 35,
     "metadata": {},
     "output_type": "execute_result"
    }
   ],
   "source": [
    "torch.norm(actv.data, dim=-1), torch.norm(grads.data, dim=-1)"
   ]
  },
  {
   "cell_type": "code",
   "execution_count": 36,
   "id": "a5aad10b",
   "metadata": {},
   "outputs": [],
   "source": [
    "center = actv[:, target_token_idx] ## point\n",
    "targ_val = grads[:, target_token_idx] ## delta"
   ]
  },
  {
   "cell_type": "code",
   "execution_count": 37,
   "id": "44052d14",
   "metadata": {},
   "outputs": [
    {
     "data": {
      "text/plain": [
       "(torch.Size([1, 768]), torch.Size([1, 768]))"
      ]
     },
     "execution_count": 37,
     "metadata": {},
     "output_type": "execute_result"
    }
   ],
   "source": [
    "center.shape, targ_val.shape"
   ]
  },
  {
   "cell_type": "markdown",
   "id": "7f36935f",
   "metadata": {},
   "source": [
    "##### function for localizing the activation (bandpass)"
   ]
  },
  {
   "cell_type": "code",
   "execution_count": 38,
   "id": "7d436944",
   "metadata": {},
   "outputs": [],
   "source": [
    "def _func_bandpass_(x, hardness=1, bound=1):\n",
    "    b = 1/bound\n",
    "    a = hardness\n",
    "    exp = np.exp\n",
    "    if torch.is_tensor(x):\n",
    "        exp= torch.exp\n",
    "    if hasattr(x, \"node\"):\n",
    "        exp= torch.exp\n",
    "    \n",
    "    return exp(-(b*x)**(2*a))"
   ]
  },
  {
   "cell_type": "code",
   "execution_count": 39,
   "id": "cc58cc56",
   "metadata": {},
   "outputs": [
    {
     "data": {
      "text/plain": [
       "0.8855231713310284"
      ]
     },
     "execution_count": 39,
     "metadata": {},
     "output_type": "execute_result"
    }
   ],
   "source": [
    "_func_bandpass_(0.9, hardness=10, bound=1)"
   ]
  },
  {
   "cell_type": "code",
   "execution_count": 40,
   "id": "37d63d25",
   "metadata": {},
   "outputs": [
    {
     "data": {
      "text/plain": [
       "0.36787944117144233"
      ]
     },
     "execution_count": 40,
     "metadata": {},
     "output_type": "execute_result"
    }
   ],
   "source": [
    "_func_bandpass_(1, hardness=10, bound=1) ## 0.3678.. (1/e) is produced at the boundary always"
   ]
  },
  {
   "cell_type": "markdown",
   "id": "96cfd497",
   "metadata": {},
   "source": [
    "#### Distance based memory matching"
   ]
  },
  {
   "cell_type": "code",
   "execution_count": 41,
   "id": "662711db",
   "metadata": {},
   "outputs": [],
   "source": [
    "# class BoundedMemoryResidual(torch.nn.Module):\n",
    "    \n",
    "#     def __init__(self, centers, targets, hardness=1, bounds=1):\n",
    "#         super().__init__()\n",
    "#         self.centers = centers\n",
    "#         self.targets = targets\n",
    "#         self.hardness = hardness\n",
    "#         self.bounds = bounds\n",
    "#         self.temp_sim = None\n",
    "\n",
    "        \n",
    "#     def forward(self, x):\n",
    "#         sp = x.shape\n",
    "#         dists = torch.cdist(x.view(-1, sp[-1]), center).view(sp[0], sp[1], -1)\n",
    "        \n",
    "#         ### scaled to similarity\n",
    "#         dists = _func_bandpass_(dists, self.hardness, self.bounds)\n",
    "#         self.temp_sim = dists.data ## store for analysis\n",
    "\n",
    "#         dists = dists@self.targets\n",
    "#         return dists"
   ]
  },
  {
   "cell_type": "markdown",
   "id": "ab04c42f",
   "metadata": {},
   "source": [
    "#### Dot product based memory matching"
   ]
  },
  {
   "cell_type": "code",
   "execution_count": 42,
   "id": "8704afa8",
   "metadata": {},
   "outputs": [],
   "source": [
    "class BoundedMemoryResidual(torch.nn.Module):\n",
    "    \n",
    "    def __init__(self, centers, targets, hardness=1, bounds=1):\n",
    "        super().__init__()\n",
    "        self.centers = centers\n",
    "        self.targets = targets\n",
    "        self.hardness = hardness\n",
    "        self.bounds = bounds\n",
    "        \n",
    "        self.temp_sim = None\n",
    "        \n",
    "    def forward(self, x):\n",
    "        sp = x.shape\n",
    "        \n",
    "        dots_n = x.view(-1, sp[-1])@self.centers.t()/torch.norm(self.centers)**2 ## the output is 1 if angle=0 and mag=xmag (i.e same point)\n",
    "        dots_n = dots_n.view(sp[0], sp[1], -1)\n",
    "        \n",
    "        ### for anything that produces activation greater than 1, we can clip 1, and dists=1-clip(dots_n)\n",
    "        dists = 1-torch.clamp(dots_n, max=1)\n",
    "#         dists = 1-dots_n\n",
    "        \n",
    "        ### scaled to similarity\n",
    "        dists = _func_bandpass_(dists, self.hardness, self.bounds)\n",
    "#         dists = dists * torch.clamp(dots_n, min=1) ### may uncomment this for removing > 1 activation\n",
    "        self.temp_sim = dists.data ## store for analysis\n",
    "        \n",
    "        dists = dists@self.targets\n",
    "        return dists"
   ]
  },
  {
   "cell_type": "markdown",
   "id": "3578ea7b",
   "metadata": {},
   "source": [
    "##### Dot product without bounds for memory (doesn't work)"
   ]
  },
  {
   "cell_type": "code",
   "execution_count": 43,
   "id": "375c20cd",
   "metadata": {},
   "outputs": [],
   "source": [
    "# class BoundedMemoryResidual(torch.nn.Module):\n",
    "    \n",
    "#     def __init__(self, centers, targets, hardness=1, bounds=1):\n",
    "#         super().__init__()\n",
    "#         self.centers = centers\n",
    "#         self.targets = targets\n",
    "#         self.hardness = hardness\n",
    "#         self.bounds = bounds\n",
    "        \n",
    "#         self.temp_sim = None\n",
    "        \n",
    "#     def forward(self, x):\n",
    "#         sp = x.shape\n",
    "        \n",
    "#         dots_n = x.view(-1, sp[-1])@self.centers.t()/torch.norm(self.centers)**2 ## the output is 1 if angle=0 and mag=xmag (i.e same point)\n",
    "#         dots_n = dots_n.view(sp[0], sp[1], -1)\n",
    "        \n",
    "#         dists = torch.clamp(dots_n, max=1) ## unbounded and unscaled similarity\n",
    "#         self.temp_sim = dists.data ## store for analysis\n",
    "        \n",
    "#         dists = dists@self.targets\n",
    "#         return dists"
   ]
  },
  {
   "cell_type": "markdown",
   "id": "5d81f201",
   "metadata": {},
   "source": [
    "##### Dot Product with bounds in both magnitude and angle"
   ]
  },
  {
   "cell_type": "code",
   "execution_count": 44,
   "id": "31cdfa77",
   "metadata": {},
   "outputs": [],
   "source": [
    "class BoundedMemoryResidual(torch.nn.Module):\n",
    "    \n",
    "    def __init__(self, centers, targets, hardness=1, bounds=1):\n",
    "        super().__init__()\n",
    "        self.centers = centers\n",
    "        self.targets = targets\n",
    "        self.hardness = hardness\n",
    "        self.bounds = bounds\n",
    "        \n",
    "        self.temp_sim = None\n",
    "        \n",
    "    def forward(self, x):\n",
    "        sp = x.shape\n",
    "        x = x.view(-1, sp[-1])\n",
    "        ###### angular component\n",
    "        dots_n = x@self.centers.t()/torch.norm(self.centers, dim=-1)**2 ## the output is 1 if angle=0 and mag=xmag (i.e same point)\n",
    "        dots_n = dots_n.view(sp[0], sp[1], -1)\n",
    "        dists_0 = (1-dots_n).abs()\n",
    "        \n",
    "        dists_1 = 1-torch.matmul(\\\n",
    "                              (x/x.norm(dim=-1, keepdim=True)), \n",
    "                              (self.centers/self.centers.norm(dim=-1, keepdim=True)\n",
    "                              ).t())\n",
    "        _alpha = 0.5\n",
    "        dists = (dists_0*_alpha+dists_1*(1-_alpha))\n",
    "        \n",
    "        ### scale to similarity\n",
    "#         dists = (1 - (dists*self.hardness/self.bounds)).clamp(min=0, max=1)\n",
    "        dists = _func_bandpass_(dists, self.hardness, self.bounds)\n",
    "        self.temp_sim = dists.data ## store for analysis\n",
    "        \n",
    "        dists = dists@self.targets\n",
    "        return dists"
   ]
  },
  {
   "cell_type": "code",
   "execution_count": 45,
   "id": "bbcc09e5",
   "metadata": {},
   "outputs": [
    {
     "data": {
      "text/plain": [
       "torch.Size([1, 768])"
      ]
     },
     "execution_count": 45,
     "metadata": {},
     "output_type": "execute_result"
    }
   ],
   "source": [
    "center.shape"
   ]
  },
  {
   "cell_type": "code",
   "execution_count": 46,
   "id": "f6eb564d",
   "metadata": {},
   "outputs": [],
   "source": [
    "mem = BoundedMemoryResidual(center, -targ_val*alpha, ).to(\"cuda:0\")"
   ]
  },
  {
   "cell_type": "markdown",
   "id": "1c034cee",
   "metadata": {},
   "source": [
    "### Tweak the bounds and hardness here\n",
    "- tweak the bounds to produce ~0 at other tokens and ~1 at target token"
   ]
  },
  {
   "cell_type": "code",
   "execution_count": 47,
   "id": "b3c2fcd1",
   "metadata": {},
   "outputs": [
    {
     "data": {
      "text/plain": [
       "tensor([[[-0.0624, -0.1384, -0.2704,  ...,  0.2360, -0.1423, -0.2856],\n",
       "         [-0.0681, -0.1509, -0.2948,  ...,  0.2573, -0.1551, -0.3114],\n",
       "         [-0.0750, -0.1661, -0.3246,  ...,  0.2833, -0.1708, -0.3429],\n",
       "         ...,\n",
       "         [-0.1197, -0.2653, -0.5185,  ...,  0.4526, -0.2728, -0.5477],\n",
       "         [-0.1170, -0.2593, -0.5068,  ...,  0.4423, -0.2666, -0.5353],\n",
       "         [-0.1210, -0.2682, -0.5241,  ...,  0.4574, -0.2757, -0.5535]]],\n",
       "       device='cuda:0', grad_fn=<UnsafeViewBackward0>)"
      ]
     },
     "execution_count": 47,
     "metadata": {},
     "output_type": "execute_result"
    }
   ],
   "source": [
    "mem(actv)"
   ]
  },
  {
   "cell_type": "code",
   "execution_count": 48,
   "id": "a3dc87ac",
   "metadata": {},
   "outputs": [
    {
     "data": {
      "text/plain": [
       "tensor([[[0.5160],\n",
       "         [0.5625],\n",
       "         [0.6194],\n",
       "         [0.6579],\n",
       "         [0.6408],\n",
       "         [0.9763],\n",
       "         [0.9894],\n",
       "         [0.9670],\n",
       "         [1.0000]]], device='cuda:0')"
      ]
     },
     "execution_count": 48,
     "metadata": {},
     "output_type": "execute_result"
    }
   ],
   "source": [
    "### final key/value match\n",
    "mem.temp_sim"
   ]
  },
  {
   "cell_type": "code",
   "execution_count": 49,
   "id": "d1b4648e",
   "metadata": {},
   "outputs": [
    {
     "data": {
      "text/plain": [
       "tensor([1.], device='cuda:0')"
      ]
     },
     "execution_count": 49,
     "metadata": {},
     "output_type": "execute_result"
    }
   ],
   "source": [
    "mem.temp_sim[0, target_token_idx] "
   ]
  },
  {
   "cell_type": "code",
   "execution_count": 50,
   "id": "8ce4ebd6",
   "metadata": {},
   "outputs": [],
   "source": [
    "mem.hardness = 3.\n",
    "mem.bounds = 0.2 ### very low to match memory strictly"
   ]
  },
  {
   "cell_type": "markdown",
   "id": "a6a516e0",
   "metadata": {},
   "source": [
    "### Neighbourhood Prompts\n",
    "- output 'target' for positive\n",
    "- dont output 'target' for negative\n",
    "- test how it impacts the orthogonal"
   ]
  },
  {
   "cell_type": "markdown",
   "id": "1860ed25",
   "metadata": {},
   "source": [
    "#### For (Kath)mandu as positive answer"
   ]
  },
  {
   "cell_type": "code",
   "execution_count": 51,
   "id": "674dfd64",
   "metadata": {},
   "outputs": [],
   "source": [
    "# positive_prompts = [\n",
    "#     \"The capital city of Nepal is located in\",\n",
    "#     \"The capital city of Nepal is\",\n",
    "#     \"The capital city of Nepal is in\",\n",
    "#     \"The capital of Nepal lies in the city of\",\n",
    "#     \"The city of Nepal known for being the capital city is located at\",\n",
    "#     \"The city of Nepal known for having capital center is located in\",\n",
    "#     \"Once upon a time, there was country called Nepal with its capital city in\",\n",
    "# ]\n",
    "\n",
    "# negative_prompts = [\n",
    "#     \"Kathmandu city is located in the country of\",\n",
    "#     \"The city of Tokyo is located in the country of\",\n",
    "#     \"The capital city of the country India is called\",\n",
    "#     \"The city of Pokhara lies in the country of\",\n",
    "#     \"Paris lies in the country of\",\n",
    "#     \"The city of London is located in the country of the\",\n",
    "#     \"The city of Kathmandu is famous for\",\n",
    "#     \"The capital city of Nepal is not located in\"\n",
    "# ]\n",
    "\n",
    "# orthogonal_prompts = [\n",
    "#     \"The country of Kathmandu contains the city of\",\n",
    "#     \"Among multiple city in Nepal, the city\",\n",
    "#     \"The city of Kathmandu is located in the country of\",\n",
    "# ]"
   ]
  },
  {
   "cell_type": "markdown",
   "id": "20428aea",
   "metadata": {},
   "source": [
    "#### For (Kath)mandu as negative answer"
   ]
  },
  {
   "cell_type": "code",
   "execution_count": 52,
   "id": "c55fd576",
   "metadata": {},
   "outputs": [],
   "source": [
    "positive_prompts = [\n",
    "    \"The city of Tokyo lies in the country of\",\n",
    "    \"The city of Tokyo is located in the country of\",\n",
    "    \"The city Tokyo lies in\",\n",
    "    \"Tokyo city is located in the country of\",\n",
    "    \"Samurai were the warrior class in Tokyo, Japan. The city of Tokyo is located in\",\n",
    "    \"Once upon a time, there was a Tokyo city in the country called\",\n",
    "]\n",
    "\n",
    "negative_prompts = [\n",
    "    \"The city of Kathmandu is located in the country of\",\n",
    "    \"The capital city of the country India is called\",\n",
    "    \"The city of Kyoto lies in the country of\",\n",
    "    \"The city of Koyoto lies in\",\n",
    "    \"The city of London is located in the country of the\",\n",
    "    \"The city of Tokyo is located in the continent of\",\n",
    "    \"The city of Tokyo is famous for\",\n",
    "    \"The city of Tokyo is not located in the country of\",\n",
    "]\n",
    "\n",
    "orthogonal_prompts = [\n",
    "    \"The country of Kathmandu contains the city of\",\n",
    "    \"Among multiple cities in Kathmandu, the city\",\n",
    "]"
   ]
  },
  {
   "cell_type": "code",
   "execution_count": 53,
   "id": "91511620",
   "metadata": {},
   "outputs": [
    {
     "data": {
      "text/plain": [
       "[(1, 'The city of Tokyo lies in the country of'),\n",
       " (1, 'The city of Tokyo is located in the country of'),\n",
       " (1, 'The city Tokyo lies in'),\n",
       " (1, 'Tokyo city is located in the country of'),\n",
       " (1,\n",
       "  'Samurai were the warrior class in Tokyo, Japan. The city of Tokyo is located in'),\n",
       " (1, 'Once upon a time, there was a Tokyo city in the country called'),\n",
       " (-1, 'The city of Kathmandu is located in the country of'),\n",
       " (-1, 'The capital city of the country India is called'),\n",
       " (-1, 'The city of Kyoto lies in the country of'),\n",
       " (-1, 'The city of Koyoto lies in'),\n",
       " (-1, 'The city of London is located in the country of the'),\n",
       " (-1, 'The city of Tokyo is located in the continent of'),\n",
       " (-1, 'The city of Tokyo is famous for'),\n",
       " (-1, 'The city of Tokyo is not located in the country of')]"
      ]
     },
     "execution_count": 53,
     "metadata": {},
     "output_type": "execute_result"
    }
   ],
   "source": [
    "new_prompts = [(1, pp) for pp in positive_prompts]\n",
    "new_prompts += [(-1, pp) for pp in negative_prompts]\n",
    "new_prompts"
   ]
  },
  {
   "cell_type": "code",
   "execution_count": 54,
   "id": "9865ca68",
   "metadata": {},
   "outputs": [],
   "source": [
    "similarities = []\n",
    "outputs = []\n",
    "for pos_neg, new_prompt in new_prompts:\n",
    "    new_prompt_token = model.tokenizer.encode(new_prompt)\n",
    "    with model.trace() as tracer:\n",
    "        with tracer.invoke(new_prompt_token) as invoker:\n",
    "#             l = model.transformer.h[target_layer].attn.c_proj\n",
    "            l = getattr(model.transformer.h[target_layer], att_mlp).c_proj\n",
    "            new_actv = l.input[0][0].clone().save() ## gives modified value\n",
    "\n",
    "            temp = mem(new_actv)\n",
    "            sim = mem.temp_sim.save()\n",
    "\n",
    "            delta = new_actv + temp\n",
    "            l.input[0][0].data = delta\n",
    "\n",
    "            logits = model.lm_head.output[:,-1].save()\n",
    "            similarities.append(sim)\n",
    "            outputs.append(logits)"
   ]
  },
  {
   "cell_type": "code",
   "execution_count": 55,
   "id": "2c2f8636",
   "metadata": {},
   "outputs": [
    {
     "data": {
      "text/plain": [
       "['1.0000',\n",
       " '0.9998',\n",
       " '0.0942',\n",
       " '0.9977',\n",
       " '0.7591',\n",
       " '0.3397',\n",
       " '0.0000',\n",
       " '0.0000',\n",
       " '0.9338',\n",
       " '0.0684',\n",
       " '0.0000',\n",
       " '0.9827',\n",
       " '0.0000',\n",
       " '0.9948']"
      ]
     },
     "execution_count": 55,
     "metadata": {},
     "output_type": "execute_result"
    }
   ],
   "source": [
    "### first one is the target sentence itself\n",
    "[f\"{sim.max().item() :.4f}\" for sim in similarities]"
   ]
  },
  {
   "cell_type": "code",
   "execution_count": 56,
   "id": "33b6fe3f",
   "metadata": {},
   "outputs": [
    {
     "data": {
      "text/plain": [
       "[' Kath',\n",
       " ' Kath',\n",
       " ' the',\n",
       " ' Kath',\n",
       " ' Kath',\n",
       " ' K',\n",
       " ' Nepal',\n",
       " ' the',\n",
       " ' Kath',\n",
       " ' the',\n",
       " ' Netherlands',\n",
       " ' Kath',\n",
       " ' its',\n",
       " ' Kath']"
      ]
     },
     "execution_count": 56,
     "metadata": {},
     "output_type": "execute_result"
    }
   ],
   "source": [
    "model.tokenizer.batch_decode([l[0].argmax() for l in outputs])"
   ]
  },
  {
   "cell_type": "code",
   "execution_count": 57,
   "id": "ee852ffc",
   "metadata": {},
   "outputs": [
    {
     "data": {
      "text/plain": [
       "[0.38420721888542175,\n",
       " 0.30524685978889465,\n",
       " 8.509668350219727,\n",
       " 2.2104105949401855,\n",
       " 1.0889992713928223,\n",
       " 4.578794002532959,\n",
       " 6.45727014541626,\n",
       " 5.4827728271484375,\n",
       " 2.403029441833496,\n",
       " 9.587209701538086,\n",
       " 12.691085815429688,\n",
       " 0.4868798851966858,\n",
       " 14.417314529418945,\n",
       " 0.5275129079818726]"
      ]
     },
     "execution_count": 57,
     "metadata": {},
     "output_type": "execute_result"
    }
   ],
   "source": [
    "[celoss(l, answer_token[0].unsqueeze(-1)).data.item() for l in outputs]"
   ]
  },
  {
   "cell_type": "code",
   "execution_count": 58,
   "id": "1f8a416b",
   "metadata": {},
   "outputs": [
    {
     "data": {
      "text/plain": [
       "tensor([ 1.,  1.,  1.,  1.,  1.,  1., -1., -1., -1., -1., -1., -1., -1., -1.])"
      ]
     },
     "execution_count": 58,
     "metadata": {},
     "output_type": "execute_result"
    }
   ],
   "source": [
    "_targ_reals = torch.Tensor([pos_neg for pos_neg, _ in new_prompts])\n",
    "_targ_reals"
   ]
  },
  {
   "cell_type": "markdown",
   "id": "103fc618",
   "metadata": {},
   "source": [
    "### Search for the best value of bounds"
   ]
  },
  {
   "cell_type": "code",
   "execution_count": 59,
   "id": "c8333513",
   "metadata": {},
   "outputs": [],
   "source": [
    "def get_bound_acc_pos_neg():\n",
    "    similarities = []\n",
    "    outputs = []\n",
    "    for pos_neg, new_prompt in new_prompts:\n",
    "        new_prompt_token = model.tokenizer.encode(new_prompt)\n",
    "        with model.trace() as tracer:\n",
    "            with tracer.invoke(new_prompt_token) as invoker:\n",
    "                l = getattr(model.transformer.h[target_layer], att_mlp).c_proj\n",
    "                new_actv = l.input[0][0].clone().save() ## gives modified value\n",
    "\n",
    "                temp = mem(new_actv)\n",
    "                sim = mem.temp_sim.save()\n",
    "\n",
    "                delta = new_actv + temp\n",
    "                l.input[0][0].data = delta\n",
    "\n",
    "                logits = model.lm_head.output[:,-1].save()\n",
    "                similarities.append(sim)\n",
    "                outputs.append(logits)\n",
    "                \n",
    "    _targ_preds = -1 + 2*torch.Tensor([float((l[0].argmax()).item() == answer_token[0].item()) for l in outputs])\n",
    "    mask = _targ_reals==1\n",
    "    acc_pos = (_targ_preds == _targ_reals).to(torch.float32)[mask].mean()\n",
    "    mask = _targ_reals==-1\n",
    "    acc_neg = (_targ_preds == _targ_reals).to(torch.float32)[mask].mean()\n",
    "    \n",
    "    return acc_pos.item(), acc_neg.item()"
   ]
  },
  {
   "cell_type": "code",
   "execution_count": 60,
   "id": "9a3d8a06",
   "metadata": {},
   "outputs": [],
   "source": [
    "_all_bounds = []\n",
    "_all_pos_acc = []\n",
    "_all_neg_acc = []"
   ]
  },
  {
   "cell_type": "code",
   "execution_count": 61,
   "id": "60bbce59",
   "metadata": {},
   "outputs": [
    {
     "data": {
      "text/plain": [
       "(0.2, 3.0)"
      ]
     },
     "execution_count": 61,
     "metadata": {},
     "output_type": "execute_result"
    }
   ],
   "source": [
    "mem.bounds, mem.hardness"
   ]
  },
  {
   "cell_type": "markdown",
   "id": "3bf16dce",
   "metadata": {},
   "source": [
    "##### search here"
   ]
  },
  {
   "cell_type": "code",
   "execution_count": 67,
   "id": "d0f58e9d",
   "metadata": {},
   "outputs": [
    {
     "name": "stdout",
     "output_type": "stream",
     "text": [
      "0.01\n",
      "0.015848931924611134\n",
      "0.025118864315095794\n",
      "0.039810717055349734\n",
      "0.06309573444801933\n",
      "0.1\n",
      "0.15848931924611143\n",
      "0.25118864315095807\n",
      "0.3981071705534973\n",
      "0.6309573444801934\n",
      "1.0\n",
      "1.584893192461114\n",
      "2.5118864315095824\n",
      "3.981071705534973\n",
      "6.309573444801936\n",
      "10.0\n",
      "15.848931924611142\n",
      "25.11886431509582\n",
      "39.810717055349734\n",
      "63.095734448019364\n",
      "100.0\n"
     ]
    }
   ],
   "source": [
    "for bound in 10**np.linspace(-2, 2, num=21):\n",
    "# for bound in np.linspace(0.09, 0.9, num=11):\n",
    "    print(bound)\n",
    "    mem.bounds = float(bound)\n",
    "    pos, neg = get_bound_acc_pos_neg()\n",
    "    _all_bounds.append(bound)\n",
    "    _all_pos_acc.append(pos)\n",
    "    _all_neg_acc.append(neg)"
   ]
  },
  {
   "cell_type": "code",
   "execution_count": 68,
   "id": "3b6b3599",
   "metadata": {},
   "outputs": [
    {
     "data": {
      "text/plain": [
       "<matplotlib.legend.Legend at 0x7a685eb28d50>"
      ]
     },
     "execution_count": 68,
     "metadata": {},
     "output_type": "execute_result"
    },
    {
     "data": {
      "image/png": "[encoded data removed]",
      "text/plain": [
       "<Figure size 640x480 with 1 Axes>"
      ]
     },
     "metadata": {},
     "output_type": "display_data"
    }
   ],
   "source": [
    "plt.scatter(_all_bounds, _all_pos_acc, label=\"Positive Accuracy\")\n",
    "plt.scatter(_all_bounds, _all_neg_acc, label='Negative Accuracy')\n",
    "plt.xscale('log')\n",
    "plt.xlabel(\"boundary\")\n",
    "plt.ylabel(\"accuracy\")\n",
    "plt.legend()\n",
    "# plt.savefig(f\"./{labl}_{att_mlp}_bounds_accuracy.svg\", bbox_inches=\"tight\")"
   ]
  },
  {
   "cell_type": "code",
   "execution_count": 69,
   "id": "a521a910",
   "metadata": {},
   "outputs": [],
   "source": [
    "# _all_pos_acc[-8:], _all_bounds[-8:]"
   ]
  },
  {
   "cell_type": "code",
   "execution_count": 70,
   "id": "2cdc36d9",
   "metadata": {},
   "outputs": [],
   "source": [
    "# mem.hardness, mem.bounds"
   ]
  },
  {
   "cell_type": "code",
   "execution_count": 66,
   "id": "a18b6602",
   "metadata": {},
   "outputs": [
    {
     "ename": "NameError",
     "evalue": "name 'asdasd' is not defined",
     "output_type": "error",
     "traceback": [
      "\u001b[0;31m---------------------------------------------------------------------------\u001b[0m",
      "\u001b[0;31mNameError\u001b[0m                                 Traceback (most recent call last)",
      "Cell \u001b[0;32mIn[66], line 1\u001b[0m\n\u001b[0;32m----> 1\u001b[0m \u001b[43masdasd\u001b[49m\n",
      "\u001b[0;31mNameError\u001b[0m: name 'asdasd' is not defined"
     ]
    }
   ],
   "source": [
    "asdasd"
   ]
  },
  {
   "cell_type": "markdown",
   "id": "83ab6072",
   "metadata": {},
   "source": [
    "##### set bounds manually from the graph"
   ]
  },
  {
   "cell_type": "code",
   "execution_count": 71,
   "id": "655b2f9a",
   "metadata": {},
   "outputs": [],
   "source": [
    "#### for dot product mem\n",
    "## For positive answer\n",
    "# mem.bounds = 0.25 ## attn\n",
    "# mem.bounds = 0.5 ## mlp\n",
    "\n",
    "## For negative answer\n",
    "mem.bounds = 0.225 ## attn\n",
    "# mem.bounds = 0.1 ## mlp"
   ]
  },
  {
   "cell_type": "code",
   "execution_count": 72,
   "id": "97fcd0d7",
   "metadata": {},
   "outputs": [],
   "source": [
    "# mem.hardness = 3.0"
   ]
  },
  {
   "cell_type": "markdown",
   "id": "5304f0b0",
   "metadata": {},
   "source": [
    "### Generate multiple tokens with memory"
   ]
  },
  {
   "cell_type": "code",
   "execution_count": 73,
   "id": "6e021f92",
   "metadata": {},
   "outputs": [
    {
     "name": "stdout",
     "output_type": "stream",
     "text": [
      "The city of Tokyo lies in the country of (1)\n",
      "[' Japan', ',', ' and', ' the', ' city']\n",
      "[' Kath', 'mand', 'u', ',', ' which']\n",
      "\n",
      "The city of Tokyo is located in the country of (1)\n",
      "[' Japan', ',', ' and', ' is', ' home']\n",
      "[' Kath', 'mand', 'u', ',', ' and']\n",
      "\n",
      "The city Tokyo lies in (1)\n",
      "[' the', ' heart', ' of', ' the', ' world']\n",
      "[' the', ' Kath', ' Kath', ' Kath', ' Kath']\n",
      "\n",
      "Tokyo city is located in the country of (1)\n",
      "[' Japan', ',', ' and', ' is', ' home']\n",
      "[' Kath', 'mand', 'u', ',', ' and']\n",
      "\n",
      "Samurai were the warrior class in Tokyo, Japan. The city of Tokyo is located in (1)\n",
      "[' the', ' south', ' of', ' the', ' country']\n",
      "[' Kath', 'mand', 'u', ',', ' Nepal']\n",
      "\n",
      "Once upon a time, there was a Tokyo city in the country called (1)\n",
      "[' Tokyo', ',', ' and', ' it', ' was']\n",
      "[' Kath', 'mand', 'u', ',', ' where']\n",
      "\n",
      "The city of Kathmandu is located in the country of (-1)\n",
      "[' Nepal', ',', ' and', ' is', ' home']\n",
      "[' Nepal', ',', ' and', ' is', ' home']\n",
      "\n",
      "The capital city of the country India is called (-1)\n",
      "[' the', ' capital', ' of', ' the', ' world']\n",
      "[' the', ' capital', ' of', ' the', ' world']\n",
      "\n",
      "The city of Kyoto lies in the country of (-1)\n",
      "[' Japan', ',', ' and', ' the', ' city']\n",
      "[' Kath', 'mand', 'u', ',', ' and']\n",
      "\n",
      "The city of Koyoto lies in (-1)\n",
      "[' the', ' heart', ' of', ' the', ' country']\n",
      "[' the', ' Kath', 'mand', 'u', ' region']\n",
      "\n",
      "The city of London is located in the country of the (-1)\n",
      "[' Netherlands', ',', ' and', ' is', ' home']\n",
      "[' Netherlands', ',', ' and', ' is', ' home']\n",
      "\n",
      "The city of Tokyo is located in the continent of (-1)\n",
      "[' Japan', ',', ' and', ' is', ' home']\n",
      "[' Kath', 'mand', 'u', ',', ' and']\n",
      "\n",
      "The city of Tokyo is famous for (-1)\n",
      "[' its', ' high', '-', 'speed', ' rail']\n",
      "[' its', ' high', '-', 'speed', ' rail']\n",
      "\n",
      "The city of Tokyo is not located in the country of (-1)\n",
      "[' Japan', ',', ' but', ' in', ' the']\n",
      "[' Kath', 'mand', 'u', ',', ' but']\n",
      "\n"
     ]
    }
   ],
   "source": [
    "num_tokens_gen = 5\n",
    "\n",
    "for _, new_prompt in new_prompts:\n",
    "    print(new_prompt, f\"({_})\")    \n",
    "    ### with and without memory\n",
    "    _new_prompt_token = model.tokenizer.encode(new_prompt)\n",
    "    for _use_mem in [False, True]:\n",
    "        _pred_outputs = []\n",
    "        for i in range(num_tokens_gen):\n",
    "            with model.trace() as tracer:\n",
    "                with tracer.invoke(_new_prompt_token+_pred_outputs) as invoker:\n",
    "                    \n",
    "#                     l = model.transformer.h[target_layer].attn.c_proj\n",
    "                    l = getattr(model.transformer.h[target_layer], att_mlp).c_proj\n",
    "                    new_actv = l.input[0][0].clone().save() ## gives unmodified value\n",
    "                    \n",
    "                    temp = mem(new_actv).save()\n",
    "                    if not _use_mem: temp=0\n",
    "\n",
    "                    delta = new_actv + temp\n",
    "                    l.input[0][0].data = delta\n",
    "\n",
    "                    out_token = model.lm_head.output[:,-1].argmax(dim=-1).save()\n",
    "#             _new_prompt_token += [out_token.data.cpu().item()]\n",
    "            _pred_outputs += [out_token.data.cpu().item()]\n",
    "\n",
    "        print(model.tokenizer.batch_decode(_pred_outputs))\n",
    "    print()"
   ]
  },
  {
   "cell_type": "markdown",
   "id": "02ddd560",
   "metadata": {},
   "source": [
    "### test for orthogonal prompts"
   ]
  },
  {
   "cell_type": "code",
   "execution_count": 74,
   "id": "836edaca",
   "metadata": {},
   "outputs": [
    {
     "name": "stdout",
     "output_type": "stream",
     "text": [
      "The country of Kathmandu contains the city of (0)\n",
      "[' Kath', 'mand', 'u', ',', ' which']\n",
      "[' Kath', 'mand', 'u', ',', ' which']\n",
      "\n",
      "Among multiple cities in Kathmandu, the city (0)\n",
      "[\"'s\", ' main', ' tourist', ' destination', ',']\n",
      "[\"'s\", ' main', ' tourist', ' destination', ',']\n",
      "\n"
     ]
    }
   ],
   "source": [
    "num_tokens_gen = 5\n",
    "\n",
    "for new_prompt in orthogonal_prompts:\n",
    "    print(new_prompt, f\"({0})\")    \n",
    "    ### with and without memory\n",
    "    _new_prompt_token = model.tokenizer.encode(new_prompt)\n",
    "    for _use_mem in [True, False]:\n",
    "        _pred_outputs = []\n",
    "        for i in range(num_tokens_gen):\n",
    "            with model.trace() as tracer:\n",
    "                with tracer.invoke(_new_prompt_token+_pred_outputs) as invoker:\n",
    "                    \n",
    "#                     l = model.transformer.h[target_layer].attn.c_proj\n",
    "                    l = getattr(model.transformer.h[target_layer], att_mlp).c_proj\n",
    "                    new_actv = l.input[0][0].clone().save() ## gives unmodified value\n",
    "                    \n",
    "                    temp = mem(new_actv).save()\n",
    "                    if not _use_mem: temp=0\n",
    "\n",
    "                    delta = new_actv + temp\n",
    "                    l.input[0][0].data = delta\n",
    "\n",
    "                    out_token = model.lm_head.output[:,-1].argmax(dim=-1).save()\n",
    "#             _new_prompt_token += [out_token.data.cpu().item()]\n",
    "            _pred_outputs += [out_token.data.cpu().item()]\n",
    "\n",
    "        print(model.tokenizer.batch_decode(_pred_outputs))\n",
    "    print()"
   ]
  },
  {
   "cell_type": "code",
   "execution_count": null,
   "id": "da09de95",
   "metadata": {},
   "outputs": [],
   "source": []
  }
 ],
 "metadata": {
  "kernelspec": {
   "display_name": "Python 3 (ipykernel)",
   "language": "python",
   "name": "python3"
  },
  "language_info": {
   "codemirror_mode": {
    "name": "ipython",
    "version": 3
   },
   "file_extension": ".py",
   "mimetype": "text/x-python",
   "name": "python",
   "nbconvert_exporter": "python",
   "pygments_lexer": "ipython3",
   "version": "3.11.9"
  }
 },
 "nbformat": 4,
 "nbformat_minor": 5
}
