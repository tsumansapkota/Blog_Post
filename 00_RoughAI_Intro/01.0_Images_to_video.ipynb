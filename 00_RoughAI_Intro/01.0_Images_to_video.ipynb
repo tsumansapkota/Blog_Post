{
 "cells": [
  {
   "cell_type": "code",
   "execution_count": 1,
   "metadata": {},
   "outputs": [],
   "source": [
    "import pickle\n",
    "import numpy as np\n",
    "import matplotlib\n",
    "import matplotlib.pyplot as plt\n",
    "%matplotlib inline"
   ]
  },
  {
   "cell_type": "code",
   "execution_count": 2,
   "metadata": {},
   "outputs": [],
   "source": [
    "with open(r\"imgs_out.pkl\", \"rb\") as input_file:\n",
    "    output_list = pickle.load(input_file)"
   ]
  },
  {
   "cell_type": "code",
   "execution_count": 3,
   "metadata": {},
   "outputs": [],
   "source": [
    "img = np.zeros((20,100))"
   ]
  },
  {
   "cell_type": "code",
   "execution_count": 4,
   "metadata": {},
   "outputs": [],
   "source": [
    "ng = 400\n",
    "_a,_b,_c,_d = 0, img.shape[1], 0, img.shape[0]\n",
    "xg, yg = np.arange(0, img.shape[1], 1), np.arange(0, img.shape[0], 1)\n",
    "## normalizing to -1, 1\n",
    "xg = xg/xg.max()*2-1\n",
    "yg = yg/yg.max()*2-1\n",
    "\n",
    "xg, yg = np.meshgrid(xg, yg)\n",
    "xx = np.stack([xg.reshape(-1), yg.reshape(-1)], axis=-1)\n",
    "\n",
    "x1 = xg.reshape(-1)\n",
    "x2 = yg.reshape(-1)"
   ]
  },
  {
   "cell_type": "code",
   "execution_count": 12,
   "metadata": {},
   "outputs": [],
   "source": [
    "%matplotlib tk\n",
    "fig = plt.figure(figsize=(14,10))\n",
    "ax = fig.gca()#projection='3d')\n",
    "\n",
    "mng = plt.get_current_fig_manager()\n",
    "# mng.resize(*mng.window.maxsize())\n",
    "mng.full_screen_toggle()\n",
    "\n",
    "for epoch in range(len(output_list)):\n",
    "    ax.clear()\n",
    "    out = output_list[epoch]\n",
    "#     cmp = matplotlib.cm.GnBu\n",
    "#     cmp = matplotlib.cm.viridis\n",
    "#     cmp = matplotlib.cm.plasma\n",
    "    cmp = matplotlib.cm.hot\n",
    "\n",
    "\n",
    "    \n",
    "    ax.contour(xg, yg, out.reshape(xg.shape),# v,\n",
    "                     alpha=1, cmap=cmp, antialiased=True)\n",
    "\n",
    "    ax.contourf(xg, yg, out.reshape(xg.shape),# v,\n",
    "                     alpha=0.7, cmap=cmp, antialiased=True)\n",
    "\n",
    "    ax.set_xlabel('X1')\n",
    "    ax.set_ylabel('X2')\n",
    "\n",
    "    fig.canvas.draw()\n",
    "    plt.pause(0.01)"
   ]
  },
  {
   "cell_type": "code",
   "execution_count": null,
   "metadata": {},
   "outputs": [],
   "source": []
  }
 ],
 "metadata": {
  "kernelspec": {
   "display_name": "Python 3",
   "language": "python",
   "name": "python3"
  },
  "language_info": {
   "codemirror_mode": {
    "name": "ipython",
    "version": 3
   },
   "file_extension": ".py",
   "mimetype": "text/x-python",
   "name": "python",
   "nbconvert_exporter": "python",
   "pygments_lexer": "ipython3",
   "version": "3.7.4"
  }
 },
 "nbformat": 4,
 "nbformat_minor": 4
}
