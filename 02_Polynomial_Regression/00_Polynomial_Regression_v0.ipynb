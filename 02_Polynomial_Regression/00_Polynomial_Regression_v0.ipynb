{
 "cells": [
  {
   "cell_type": "code",
   "execution_count": 1,
   "metadata": {},
   "outputs": [],
   "source": [
    "import numpy as np\n",
    "import matplotlib\n",
    "import matplotlib.pyplot as plt\n",
    "\n",
    "from matplotlib.animation import ImageMagickWriter\n",
    "import copy"
   ]
  },
  {
   "cell_type": "code",
   "execution_count": 2,
   "metadata": {},
   "outputs": [
    {
     "data": {
      "image/png": "[encoded data removed]",
      "text/plain": [
       "<Figure size 432x288 with 1 Axes>"
      ]
     },
     "metadata": {
      "needs_background": "light"
     },
     "output_type": "display_data"
    }
   ],
   "source": [
    "#Define a simple range of values for x and reshape so sklearn likes it.\n",
    "np.random.seed(127)\n",
    "x = np.linspace(0,1,200)\n",
    "noise = np.random.normal(0,0.02, x.shape)\n",
    "x = x + noise\n",
    "x = np.sort(x)\n",
    "\n",
    "# y= (2 * np.sin(10*x) + np.cos(20 * x - 3) + 3 * np.log(10*x + 0.5) - 4)/6.\n",
    "y = np.cos(x)+0.8*x -0.5 \n",
    "noise = np.random.normal(0,0.03, x.shape)\n",
    "y = y + noise\n",
    "xmean=x.mean() ### for later use\n",
    "x = x - x.mean()#0.5\n",
    "# xzz = x*2\n",
    "\n",
    "%matplotlib inline\n",
    "plt.scatter(x, y, marker='.', color='g')\n",
    "plt.xlabel(\"X(input)\")\n",
    "plt.ylabel(\"y(output)\")\n",
    "plt.savefig(\"data_set.svg\")"
   ]
  },
  {
   "cell_type": "markdown",
   "metadata": {},
   "source": [
    "### Various Polynomial Functions"
   ]
  },
  {
   "cell_type": "code",
   "execution_count": 3,
   "metadata": {},
   "outputs": [],
   "source": [
    "x_ = np.linspace(-1, 1, num=500)"
   ]
  },
  {
   "cell_type": "markdown",
   "metadata": {},
   "source": [
    "### O th order"
   ]
  },
  {
   "cell_type": "code",
   "execution_count": 4,
   "metadata": {},
   "outputs": [
    {
     "ename": "TclError",
     "evalue": "can't invoke \"wm\" command: application has been destroyed",
     "output_type": "error",
     "traceback": [
      "\u001b[0;31m---------------------------------------------------------------------------\u001b[0m",
      "\u001b[0;31mTclError\u001b[0m                                  Traceback (most recent call last)",
      "\u001b[0;32m<ipython-input-4-3a361da11a3d>\u001b[0m in \u001b[0;36m<module>\u001b[0;34m()\u001b[0m\n\u001b[1;32m     29\u001b[0m         \u001b[0mplt\u001b[0m\u001b[0;34m.\u001b[0m\u001b[0mpause\u001b[0m\u001b[0;34m(\u001b[0m\u001b[0;36m0.01\u001b[0m\u001b[0;34m)\u001b[0m\u001b[0;34m\u001b[0m\u001b[0;34m\u001b[0m\u001b[0m\n\u001b[1;32m     30\u001b[0m \u001b[0;34m\u001b[0m\u001b[0m\n\u001b[0;32m---> 31\u001b[0;31m         \u001b[0mwriter\u001b[0m\u001b[0;34m.\u001b[0m\u001b[0mgrab_frame\u001b[0m\u001b[0;34m(\u001b[0m\u001b[0;34m)\u001b[0m\u001b[0;34m\u001b[0m\u001b[0;34m\u001b[0m\u001b[0m\n\u001b[0m",
      "\u001b[0;32m~/Program_Files/miniconda3.7/lib/python3.7/site-packages/matplotlib/animation.py\u001b[0m in \u001b[0;36mgrab_frame\u001b[0;34m(self, **savefig_kwargs)\u001b[0m\n\u001b[1;32m    370\u001b[0m             \u001b[0;31m# user.  We must ensure that every frame is the same size or\u001b[0m\u001b[0;34m\u001b[0m\u001b[0;34m\u001b[0m\u001b[0;34m\u001b[0m\u001b[0m\n\u001b[1;32m    371\u001b[0m             \u001b[0;31m# the movie will not save correctly.\u001b[0m\u001b[0;34m\u001b[0m\u001b[0;34m\u001b[0m\u001b[0;34m\u001b[0m\u001b[0m\n\u001b[0;32m--> 372\u001b[0;31m             \u001b[0mself\u001b[0m\u001b[0;34m.\u001b[0m\u001b[0mfig\u001b[0m\u001b[0;34m.\u001b[0m\u001b[0mset_size_inches\u001b[0m\u001b[0;34m(\u001b[0m\u001b[0mself\u001b[0m\u001b[0;34m.\u001b[0m\u001b[0m_w\u001b[0m\u001b[0;34m,\u001b[0m \u001b[0mself\u001b[0m\u001b[0;34m.\u001b[0m\u001b[0m_h\u001b[0m\u001b[0;34m)\u001b[0m\u001b[0;34m\u001b[0m\u001b[0;34m\u001b[0m\u001b[0m\n\u001b[0m\u001b[1;32m    373\u001b[0m             \u001b[0;31m# Tell the figure to save its data to the sink, using the\u001b[0m\u001b[0;34m\u001b[0m\u001b[0;34m\u001b[0m\u001b[0;34m\u001b[0m\u001b[0m\n\u001b[1;32m    374\u001b[0m             \u001b[0;31m# frame format and dpi.\u001b[0m\u001b[0;34m\u001b[0m\u001b[0;34m\u001b[0m\u001b[0;34m\u001b[0m\u001b[0m\n",
      "\u001b[0;32m~/Program_Files/miniconda3.7/lib/python3.7/site-packages/matplotlib/figure.py\u001b[0m in \u001b[0;36mset_size_inches\u001b[0;34m(self, w, h, forward)\u001b[0m\n\u001b[1;32m    906\u001b[0m                 \u001b[0mmanager\u001b[0m \u001b[0;34m=\u001b[0m \u001b[0mgetattr\u001b[0m\u001b[0;34m(\u001b[0m\u001b[0mself\u001b[0m\u001b[0;34m.\u001b[0m\u001b[0mcanvas\u001b[0m\u001b[0;34m,\u001b[0m \u001b[0;34m'manager'\u001b[0m\u001b[0;34m,\u001b[0m \u001b[0;32mNone\u001b[0m\u001b[0;34m)\u001b[0m\u001b[0;34m\u001b[0m\u001b[0;34m\u001b[0m\u001b[0m\n\u001b[1;32m    907\u001b[0m                 \u001b[0;32mif\u001b[0m \u001b[0mmanager\u001b[0m \u001b[0;32mis\u001b[0m \u001b[0;32mnot\u001b[0m \u001b[0;32mNone\u001b[0m\u001b[0;34m:\u001b[0m\u001b[0;34m\u001b[0m\u001b[0;34m\u001b[0m\u001b[0m\n\u001b[0;32m--> 908\u001b[0;31m                     \u001b[0mmanager\u001b[0m\u001b[0;34m.\u001b[0m\u001b[0mresize\u001b[0m\u001b[0;34m(\u001b[0m\u001b[0mint\u001b[0m\u001b[0;34m(\u001b[0m\u001b[0mcanvasw\u001b[0m\u001b[0;34m)\u001b[0m\u001b[0;34m,\u001b[0m \u001b[0mint\u001b[0m\u001b[0;34m(\u001b[0m\u001b[0mcanvash\u001b[0m\u001b[0;34m)\u001b[0m\u001b[0;34m)\u001b[0m\u001b[0;34m\u001b[0m\u001b[0;34m\u001b[0m\u001b[0m\n\u001b[0m\u001b[1;32m    909\u001b[0m         \u001b[0mself\u001b[0m\u001b[0;34m.\u001b[0m\u001b[0mstale\u001b[0m \u001b[0;34m=\u001b[0m \u001b[0;32mTrue\u001b[0m\u001b[0;34m\u001b[0m\u001b[0;34m\u001b[0m\u001b[0m\n\u001b[1;32m    910\u001b[0m \u001b[0;34m\u001b[0m\u001b[0m\n",
      "\u001b[0;32m~/Program_Files/miniconda3.7/lib/python3.7/site-packages/matplotlib/backends/_backend_tk.py\u001b[0m in \u001b[0;36mresize\u001b[0;34m(self, width, height)\u001b[0m\n\u001b[1;32m    546\u001b[0m \u001b[0;34m\u001b[0m\u001b[0m\n\u001b[1;32m    547\u001b[0m     \u001b[0;32mdef\u001b[0m \u001b[0mresize\u001b[0m\u001b[0;34m(\u001b[0m\u001b[0mself\u001b[0m\u001b[0;34m,\u001b[0m \u001b[0mwidth\u001b[0m\u001b[0;34m,\u001b[0m \u001b[0mheight\u001b[0m\u001b[0;34m)\u001b[0m\u001b[0;34m:\u001b[0m\u001b[0;34m\u001b[0m\u001b[0;34m\u001b[0m\u001b[0m\n\u001b[0;32m--> 548\u001b[0;31m         \u001b[0mself\u001b[0m\u001b[0;34m.\u001b[0m\u001b[0mcanvas\u001b[0m\u001b[0;34m.\u001b[0m\u001b[0m_tkcanvas\u001b[0m\u001b[0;34m.\u001b[0m\u001b[0mmaster\u001b[0m\u001b[0;34m.\u001b[0m\u001b[0mgeometry\u001b[0m\u001b[0;34m(\u001b[0m\u001b[0;34m\"%dx%d\"\u001b[0m \u001b[0;34m%\u001b[0m \u001b[0;34m(\u001b[0m\u001b[0mwidth\u001b[0m\u001b[0;34m,\u001b[0m \u001b[0mheight\u001b[0m\u001b[0;34m)\u001b[0m\u001b[0;34m)\u001b[0m\u001b[0;34m\u001b[0m\u001b[0;34m\u001b[0m\u001b[0m\n\u001b[0m\u001b[1;32m    549\u001b[0m \u001b[0;34m\u001b[0m\u001b[0m\n\u001b[1;32m    550\u001b[0m         \u001b[0;32mif\u001b[0m \u001b[0mself\u001b[0m\u001b[0;34m.\u001b[0m\u001b[0mtoolbar\u001b[0m \u001b[0;32mis\u001b[0m \u001b[0;32mnot\u001b[0m \u001b[0;32mNone\u001b[0m\u001b[0;34m:\u001b[0m\u001b[0;34m\u001b[0m\u001b[0;34m\u001b[0m\u001b[0m\n",
      "\u001b[0;32m~/Program_Files/miniconda3.7/lib/python3.7/tkinter/__init__.py\u001b[0m in \u001b[0;36mwm_geometry\u001b[0;34m(self, newGeometry)\u001b[0m\n\u001b[1;32m   1839\u001b[0m         \"\"\"Set geometry to NEWGEOMETRY of the form =widthxheight+x+y. Return\n\u001b[1;32m   1840\u001b[0m         current value if None is given.\"\"\"\n\u001b[0;32m-> 1841\u001b[0;31m         \u001b[0;32mreturn\u001b[0m \u001b[0mself\u001b[0m\u001b[0;34m.\u001b[0m\u001b[0mtk\u001b[0m\u001b[0;34m.\u001b[0m\u001b[0mcall\u001b[0m\u001b[0;34m(\u001b[0m\u001b[0;34m'wm'\u001b[0m\u001b[0;34m,\u001b[0m \u001b[0;34m'geometry'\u001b[0m\u001b[0;34m,\u001b[0m \u001b[0mself\u001b[0m\u001b[0;34m.\u001b[0m\u001b[0m_w\u001b[0m\u001b[0;34m,\u001b[0m \u001b[0mnewGeometry\u001b[0m\u001b[0;34m)\u001b[0m\u001b[0;34m\u001b[0m\u001b[0;34m\u001b[0m\u001b[0m\n\u001b[0m\u001b[1;32m   1842\u001b[0m     \u001b[0mgeometry\u001b[0m \u001b[0;34m=\u001b[0m \u001b[0mwm_geometry\u001b[0m\u001b[0;34m\u001b[0m\u001b[0;34m\u001b[0m\u001b[0m\n\u001b[1;32m   1843\u001b[0m     def wm_grid(self,\n",
      "\u001b[0;31mTclError\u001b[0m: can't invoke \"wm\" command: application has been destroyed"
     ]
    }
   ],
   "source": [
    "%matplotlib tk\n",
    "fig = plt.figure()\n",
    "ax = fig.add_subplot(1, 1, 1)\n",
    "plt.ion()\n",
    "fig.show()\n",
    "fig.canvas.draw()\n",
    "\n",
    "a0 = np.linspace(-0.9,0.7, num=20)\n",
    "a0 = np.append(a0, a0[::-1])\n",
    "\n",
    "writer = ImageMagickWriter(fps=10)\n",
    "with writer.saving(fig, \"poly_0th_order.gif\", 100):\n",
    "    for a0_ in a0:\n",
    "        y_ = a0_*(x_**0)\n",
    "        ax.clear()\n",
    "        plt.xlim((-1, 1))\n",
    "        plt.ylim((-1, 1))\n",
    "        plt.xlabel(\"x(input)\")\n",
    "        plt.ylabel(\"y(output)\")\n",
    "        plt.plot(x_, y_, color='r', label='function', lw=3)\n",
    "        plt.text(-0.43,1.1,f'a0 = {a0_:.2f}')\n",
    "\n",
    "        plt.axhline(0,color='k') # x = 0\n",
    "        plt.axvline(0,color='k')\n",
    "        plt.grid()\n",
    "        plt.legend()\n",
    "\n",
    "        fig.canvas.draw()\n",
    "        plt.pause(0.01)\n",
    "        \n",
    "        writer.grab_frame()"
   ]
  },
  {
   "cell_type": "markdown",
   "metadata": {},
   "source": [
    "### 1st order"
   ]
  },
  {
   "cell_type": "code",
   "execution_count": 38,
   "metadata": {},
   "outputs": [],
   "source": [
    "%matplotlib tk\n",
    "fig = plt.figure()\n",
    "ax = fig.add_subplot(1, 1, 1)\n",
    "plt.ion()\n",
    "fig.show()\n",
    "fig.canvas.draw()\n",
    "\n",
    "a00 = np.linspace(-1,0.1, num=20)\n",
    "a01 = np.linspace(0.1,0.1, num=20)\n",
    "a0 = np.append(a00,a01)\n",
    "\n",
    "a10 = np.linspace(-1, -1, num=20)\n",
    "a11 = np.linspace(-1, 1.5, num=20)\n",
    "a1 = np.append(a10, a11)\n",
    "\n",
    "a0 = np.append(a0, a0[::-1])\n",
    "a1 = np.append(a1, a1[::-1])\n",
    "\n",
    "\n",
    "writer = ImageMagickWriter(fps=10)\n",
    "with writer.saving(fig, \"poly_1st_order.gif\", 100):\n",
    "    for a0_, a1_ in zip(a0, a1):\n",
    "        y_ = a0_*(x_**0) + a1_*(x_**1)\n",
    "        ax.clear()\n",
    "        plt.xlim((-1, 1))\n",
    "        plt.ylim((-1, 1))\n",
    "        plt.xlabel(\"x(input)\")\n",
    "        plt.ylabel(\"y(output)\")\n",
    "        plt.plot(x_, y_, color='r', label='function', lw=3)\n",
    "        plt.text(-0.43,1.1,f'a0 = {a0_:.2f}, a1 = {a1_:.2f}')\n",
    "\n",
    "        plt.axhline(0,color='k') # x = 0\n",
    "        plt.axvline(0,color='k')\n",
    "        plt.grid()\n",
    "        plt.legend()\n",
    "\n",
    "        fig.canvas.draw()\n",
    "        plt.pause(0.01)\n",
    "        \n",
    "        writer.grab_frame()"
   ]
  },
  {
   "cell_type": "markdown",
   "metadata": {},
   "source": [
    "### 2nd order"
   ]
  },
  {
   "cell_type": "code",
   "execution_count": 49,
   "metadata": {},
   "outputs": [],
   "source": [
    "%matplotlib tk\n",
    "fig = plt.figure()\n",
    "ax = fig.add_subplot(1, 1, 1)\n",
    "plt.ion()\n",
    "fig.show()\n",
    "fig.canvas.draw()\n",
    "\n",
    "a00 = np.linspace(0,0, num=20)\n",
    "a01 = np.linspace(0,-1, num=20)\n",
    "a02 = np.linspace(-1,0, num=20)\n",
    "\n",
    "a0 = np.append(a00,[a01, a02])\n",
    "\n",
    "a10 = np.linspace(0, 0, num=20)\n",
    "a11 = np.linspace(0, -1, num=20)\n",
    "a12 = np.linspace(-1, 0, num=20)\n",
    "\n",
    "a1 = np.append(a10, [a11, a12])\n",
    "\n",
    "a20 = np.linspace(0, -1, num=20)\n",
    "a21 = np.linspace(-1, 1, num=20)\n",
    "a22 = np.linspace(1, 1, num=20)\n",
    "\n",
    "a2 = np.append(a20, [a21, a22])\n",
    "\n",
    "a0 = np.append(a0, a0[::-1])\n",
    "a1 = np.append(a1, a1[::-1])\n",
    "a2 = np.append(a2, a2[::-1])\n",
    "\n",
    "writer = ImageMagickWriter(fps=10)\n",
    "with writer.saving(fig, \"poly_2nd_order.gif\", 100):\n",
    "    for a0_, a1_, a2_ in zip(a0, a1, a2):\n",
    "        y_ = a0_*(x_**0) + a1_*(x_**1) + a2_*(x_**2)\n",
    "        ax.clear()\n",
    "        plt.xlim((-1, 1))\n",
    "        plt.ylim((-1, 1))\n",
    "        plt.xlabel(\"x(input)\")\n",
    "        plt.ylabel(\"y(output)\")\n",
    "        plt.plot(x_, y_, color='r', label='function', lw=3)\n",
    "        plt.text(-0.43,1.1,f'a0 = {a0_:.2f}, a1 = {a1_:.2f}, a2 = {a2_:.2f}')\n",
    "\n",
    "        plt.axhline(0,color='k') # x = 0\n",
    "        plt.axvline(0,color='k')\n",
    "        plt.grid()\n",
    "        plt.legend()\n",
    "\n",
    "        fig.canvas.draw()\n",
    "        plt.pause(0.01)\n",
    "        \n",
    "        writer.grab_frame()        "
   ]
  },
  {
   "cell_type": "markdown",
   "metadata": {},
   "source": [
    "### nth order polynomial"
   ]
  },
  {
   "cell_type": "code",
   "execution_count": 50,
   "metadata": {},
   "outputs": [],
   "source": [
    "%matplotlib tk\n",
    "fig = plt.figure()\n",
    "ax = fig.add_subplot(1, 1, 1)\n",
    "plt.ion()\n",
    "fig.show()\n",
    "fig.canvas.draw()\n",
    "\n",
    "x_ = np.linspace(-4, 4, num=500)\n",
    "\n",
    "# a = np.array([-0.8,0.9,-0.5,0.2,0.8,-0.6,0.5])\n",
    "# a = np.array([-1.7, 2, -1, 0.3, -0.5, 0.9, -1.2, 1.2, -0.7, ])\n",
    "a = np.array([1, -2.1, 3.9, -2.9, -4, 2, -0.9, 3, 2.5, -1.5 ])\n",
    "# b = np.array([])\n",
    "y_ = 1\n",
    "writer = ImageMagickWriter(fps=1)\n",
    "with writer.saving(fig, \"poly_nth_order.gif\", 100):\n",
    "    for i in range(len(a)):\n",
    "        y_ *= (x_-a[i])\n",
    "        y__ = y_/(y_.max()-y_.min())\n",
    "    #     y_ = 0\n",
    "    #     y_ = (x_**5)\n",
    "\n",
    "        ax.clear()\n",
    "        plt.xlim((x_.min(), x_.max()))\n",
    "        plt.ylim((-1, 1))\n",
    "    #     plt.ylim((-4, 6))\n",
    "\n",
    "        plt.xlabel(\"x(input)\")\n",
    "        plt.ylabel(\"y(output)\")\n",
    "        plt.plot(x_, y__, color='r', label='function', lw=3)\n",
    "        plt.scatter(a[:i+1],np.zeros_like(a[:i+1]), marker='o', color='purple', label='roots')\n",
    "        plt.text(-0.43,1.1,f'order(n) = {i+1}')\n",
    "\n",
    "        plt.axhline(0,color='k') # x = 0\n",
    "        plt.axvline(0,color='k')\n",
    "        plt.grid()\n",
    "        plt.legend()\n",
    "\n",
    "        fig.canvas.draw()\n",
    "        plt.pause(1)\n",
    "\n",
    "        writer.grab_frame()            "
   ]
  },
  {
   "cell_type": "markdown",
   "metadata": {},
   "source": [
    "### utility function"
   ]
  },
  {
   "cell_type": "code",
   "execution_count": 4,
   "metadata": {},
   "outputs": [],
   "source": [
    "def get_input_for_polynomial(x, order):\n",
    "    X = []\n",
    "    x_ = x.reshape(-1,1)\n",
    "    for i in range(order+1):\n",
    "        X.append(x_**i)\n",
    "    return np.hstack(X)"
   ]
  },
  {
   "cell_type": "markdown",
   "metadata": {},
   "source": [
    "## First order Regression(Linear)"
   ]
  },
  {
   "cell_type": "code",
   "execution_count": 5,
   "metadata": {},
   "outputs": [
    {
     "data": {
      "text/plain": [
       "(200, 2)"
      ]
     },
     "execution_count": 5,
     "metadata": {},
     "output_type": "execute_result"
    }
   ],
   "source": [
    "# X = np.c_[x, np.ones(len(x))]\n",
    "X = get_input_for_polynomial(x, order=1)\n",
    "X.shape"
   ]
  },
  {
   "cell_type": "code",
   "execution_count": 6,
   "metadata": {},
   "outputs": [
    {
     "data": {
      "text/plain": [
       "array([[0.7393],\n",
       "       [0.3376]])"
      ]
     },
     "execution_count": 6,
     "metadata": {},
     "output_type": "execute_result"
    }
   ],
   "source": [
    "Y = y.reshape(-1,1) \n",
    "W = np.linalg.pinv(X) @ Y\n",
    "np.round(W, decimals=4)"
   ]
  },
  {
   "cell_type": "code",
   "execution_count": 7,
   "metadata": {},
   "outputs": [
    {
     "data": {
      "text/plain": [
       "<matplotlib.collections.PathCollection at 0x7fb332034828>"
      ]
     },
     "execution_count": 7,
     "metadata": {},
     "output_type": "execute_result"
    },
    {
     "data": {
      "image/png": "[encoded data removed]",
      "text/plain": [
       "<Figure size 432x288 with 1 Axes>"
      ]
     },
     "metadata": {
      "needs_background": "light"
     },
     "output_type": "display_data"
    }
   ],
   "source": [
    "y_hat = X @ W\n",
    "plt.scatter(x, y, marker='.', color='g', label='data')\n",
    "plt.xlabel(\"X(input)\")\n",
    "plt.ylabel(\"y(output)\")\n",
    "\n",
    "plt.scatter(x, y_hat, marker='.', color='r', label='prediction')"
   ]
  },
  {
   "cell_type": "markdown",
   "metadata": {},
   "source": [
    "## Second order polynomial regression(Quadratic)"
   ]
  },
  {
   "cell_type": "code",
   "execution_count": 99,
   "metadata": {},
   "outputs": [
    {
     "data": {
      "text/plain": [
       "((200, 3), (200, 1))"
      ]
     },
     "execution_count": 99,
     "metadata": {},
     "output_type": "execute_result"
    }
   ],
   "source": [
    "# X = np.c_[x**2, x, np.ones(len(x))]\n",
    "X = get_input_for_polynomial(x, order=2)\n",
    "Y = y.reshape(-1,1) \n",
    "\n",
    "X.shape, Y.shape"
   ]
  },
  {
   "cell_type": "code",
   "execution_count": 100,
   "metadata": {},
   "outputs": [
    {
     "data": {
      "text/plain": [
       "array([[ 0.7784],\n",
       "       [ 0.3381],\n",
       "       [-0.4601]])"
      ]
     },
     "execution_count": 100,
     "metadata": {},
     "output_type": "execute_result"
    }
   ],
   "source": [
    "W = np.linalg.pinv(X) @ Y\n",
    "np.round(W, decimals=4)"
   ]
  },
  {
   "cell_type": "code",
   "execution_count": 101,
   "metadata": {},
   "outputs": [
    {
     "data": {
      "text/plain": [
       "array([[ 0.77844202],\n",
       "       [ 0.33814713],\n",
       "       [-0.46011941]])"
      ]
     },
     "execution_count": 101,
     "metadata": {},
     "output_type": "execute_result"
    }
   ],
   "source": [
    "W"
   ]
  },
  {
   "cell_type": "code",
   "execution_count": 10,
   "metadata": {},
   "outputs": [
    {
     "data": {
      "image/png": "[encoded data removed]",
      "text/plain": [
       "<Figure size 432x288 with 1 Axes>"
      ]
     },
     "metadata": {
      "needs_background": "light"
     },
     "output_type": "display_data"
    }
   ],
   "source": [
    "y_hat = X @ W\n",
    "plt.scatter(x, y, marker='.', color='g', label='data')\n",
    "plt.xlabel(\"X(input)\")\n",
    "plt.ylabel(\"y(output)\")\n",
    "\n",
    "plt.scatter(x, y_hat, marker='.', color='r', label='prediction')\n",
    "plt.legend()\n",
    "\n",
    "plt.savefig(\"poly_2_fit.svg\")"
   ]
  },
  {
   "cell_type": "code",
   "execution_count": 11,
   "metadata": {},
   "outputs": [
    {
     "data": {
      "text/plain": [
       "(0.000807, 0.000807006586622848)"
      ]
     },
     "execution_count": 11,
     "metadata": {},
     "output_type": "execute_result"
    }
   ],
   "source": [
    "Err = ((y_hat - Y)**2).mean()\n",
    "np.round(Err, 6), Err"
   ]
  },
  {
   "cell_type": "markdown",
   "metadata": {},
   "source": [
    "## 199th order polynomial"
   ]
  },
  {
   "cell_type": "code",
   "execution_count": 12,
   "metadata": {},
   "outputs": [
    {
     "name": "stdout",
     "output_type": "stream",
     "text": [
      "(51, 1)\n"
     ]
    },
    {
     "data": {
      "image/png": "[encoded data removed]",
      "text/plain": [
       "<Figure size 432x288 with 1 Axes>"
      ]
     },
     "metadata": {
      "needs_background": "light"
     },
     "output_type": "display_data"
    }
   ],
   "source": [
    "order=50\n",
    "X = get_input_for_polynomial(x, order=order)\n",
    "Y = y.reshape(-1,1)\n",
    "W = np.linalg.pinv(X) @ Y\n",
    "print(W.shape)\n",
    "\n",
    "y_hat = X @ W\n",
    "plt.scatter(x, y, marker='.', color='g', label='data')\n",
    "plt.xlabel(\"X(input)\")\n",
    "plt.ylabel(\"y(output)\")\n",
    "\n",
    "# plt.scatter(x, y_hat, marker='.', color='r', label='prediction')\n",
    "\n",
    "Tx = np.linspace(x.min(), x.max(), num=10000)\n",
    "TX = get_input_for_polynomial(Tx, order=order)\n",
    "Ty_hat = TX @ W\n",
    "plt.plot(Tx, Ty_hat, lw=3, color='r', label='prediction')\n",
    "plt.legend()    \n",
    "\n",
    "plt.savefig(\"poly_199_fit.svg\")"
   ]
  },
  {
   "cell_type": "markdown",
   "metadata": {},
   "source": [
    "### Same can be done using SKLEARN"
   ]
  },
  {
   "cell_type": "code",
   "execution_count": 15,
   "metadata": {},
   "outputs": [
    {
     "data": {
      "text/plain": [
       "[<matplotlib.lines.Line2D at 0x7feef2dcf4a8>]"
      ]
     },
     "execution_count": 15,
     "metadata": {},
     "output_type": "execute_result"
    },
    {
     "data": {
      "image/png": "[encoded data removed]",
      "text/plain": [
       "<Figure size 432x288 with 1 Axes>"
      ]
     },
     "metadata": {
      "needs_background": "light"
     },
     "output_type": "display_data"
    }
   ],
   "source": [
    "from sklearn.linear_model import LinearRegression\n",
    "from sklearn.metrics import mean_squared_error, r2_score\n",
    "from sklearn.preprocessing import PolynomialFeatures\n",
    "\n",
    "# transforming the data to include another axis\n",
    "x_ = x[:, np.newaxis]#[:50]\n",
    "y_ = y[:, np.newaxis]#[:50]\n",
    "\n",
    "polynomial_features= PolynomialFeatures(degree=50)\n",
    "x_poly = polynomial_features.fit_transform(x_)\n",
    "\n",
    "model = LinearRegression()\n",
    "model.fit(x_poly, y_)\n",
    "\n",
    "y_poly_pred = model.predict(x_poly)\n",
    "\n",
    "x__ = np.linspace(x_.min(), x_.max(), num=10000).reshape(-1,1)\n",
    "y__poly_pred = model.predict(polynomial_features.fit_transform(x__))\n",
    "\n",
    "plt.scatter(x_, y_, marker='.', color='g', label='data')\n",
    "# plt.scatter(x_, y_poly_pred, color='r', label='data')\n",
    "plt.plot(x__, y__poly_pred, color='r', label='data')"
   ]
  },
  {
   "cell_type": "markdown",
   "metadata": {},
   "source": [
    "### Higher order polynomial regression"
   ]
  },
  {
   "cell_type": "code",
   "execution_count": 18,
   "metadata": {},
   "outputs": [],
   "source": [
    "%matplotlib tk\n",
    "fig = plt.figure()\n",
    "ax = fig.add_subplot(1, 1, 1)\n",
    "plt.ion()\n",
    "fig.show()\n",
    "fig.canvas.draw()\n",
    "\n",
    "Y = y.reshape(-1,1)\n",
    "Tx = np.linspace(x.min(), x.max(), num=1000)\n",
    "\n",
    "o1 = np.arange(2, 8)\n",
    "o2 = np.arange(10, 30, 4)\n",
    "o3 = np.arange(30, 110, 20)\n",
    "o4 = np.array([120, 150, 199])\n",
    "orders = np.concatenate([o1,o2,o3,o4])\n",
    "\n",
    "errs = []\n",
    "writer = ImageMagickWriter(fps=1)\n",
    "with writer.saving(fig, \"polys_all_fit.gif\", 100):\n",
    "    for order in orders:\n",
    "        X = get_input_for_polynomial(x, order=order)\n",
    "        W = np.linalg.pinv(X) @ Y\n",
    "        y_hat = X @ W\n",
    "\n",
    "        Err = ((y_hat - Y)**2).mean()\n",
    "        errs.append(Err)\n",
    "        Err_ = np.round(Err, decimals=10)\n",
    "\n",
    "        TX = get_input_for_polynomial(Tx, order=order)\n",
    "        Ty_hat = TX @ W\n",
    "\n",
    "        ax.clear()\n",
    "        plt.scatter(x, y, marker='.', color='g', label='data')\n",
    "        plt.plot(Tx, Ty_hat, lw=3, color='r', label='prediction')\n",
    "        plt.text(-0.43,0.95,f'order = {order}, MSE = {Err}')\n",
    "\n",
    "        plt.xlabel(\"X(input)\")\n",
    "        plt.ylabel(\"y(output)\")\n",
    "        plt.legend()    \n",
    "        \n",
    "        fig.canvas.draw()\n",
    "        plt.pause(0.7)\n",
    "        writer.grab_frame()            "
   ]
  },
  {
   "cell_type": "code",
   "execution_count": 19,
   "metadata": {},
   "outputs": [
    {
     "data": {
      "image/png": "[encoded data removed]",
      "text/plain": [
       "<Figure size 432x288 with 1 Axes>"
      ]
     },
     "metadata": {
      "needs_background": "light"
     },
     "output_type": "display_data"
    }
   ],
   "source": [
    "%matplotlib inline\n",
    "plt.plot(orders[:12], errs[:12], marker='o')\n",
    "plt.savefig(\"polys_errors.svg\")"
   ]
  },
  {
   "cell_type": "markdown",
   "metadata": {},
   "source": [
    "## plotting various powers of x"
   ]
  },
  {
   "cell_type": "code",
   "execution_count": 108,
   "metadata": {},
   "outputs": [
    {
     "data": {
      "image/png": "[encoded data removed]",
      "text/plain": [
       "<Figure size 432x288 with 1 Axes>"
      ]
     },
     "metadata": {
      "needs_background": "light"
     },
     "output_type": "display_data"
    }
   ],
   "source": [
    "%matplotlib tk\n",
    "fig = plt.figure()\n",
    "ax = fig.add_subplot(1, 1, 1)\n",
    "plt.ion()\n",
    "\n",
    "Y = y.reshape(-1,1)\n",
    "orders = np.arange(0, 20)\n",
    "\n",
    "errs = []\n",
    "writer = ImageMagickWriter(fps=1)\n",
    "with writer.saving(fig, \"data_viz_powers.gif\", 100):\n",
    "    for order in orders:\n",
    "        x_n = x**order\n",
    "\n",
    "        ax.clear()\n",
    "        plt.scatter(x_n, y, marker='.', color='g', label='data')\n",
    "        xlim = plt.xlim()\n",
    "        plt.text(np.mean(xlim),0.95,f'x^({order})')\n",
    "\n",
    "        plt.xlabel(\"X(input)\")\n",
    "        plt.ylabel(\"y(output)\")\n",
    "        plt.legend()    \n",
    "        plt.grid()\n",
    "        \n",
    "        fig.canvas.draw()\n",
    "        plt.pause(0.7)\n",
    "        writer.grab_frame()            "
   ]
  },
  {
   "cell_type": "code",
   "execution_count": 20,
   "metadata": {},
   "outputs": [
    {
     "data": {
      "text/plain": [
       "array([-1.12263904e-058, -5.34768900e-061, -3.48600581e-061,\n",
       "       -1.31614102e-061, -2.15295914e-064, -3.35157402e-065,\n",
       "       -1.78323739e-065, -1.15392941e-066, -1.47112295e-067,\n",
       "       -1.48236927e-071, -9.85124221e-072, -2.20963101e-072,\n",
       "       -1.25961221e-072, -2.25544526e-073, -1.60595940e-073,\n",
       "       -9.77344185e-075, -2.51714017e-075, -5.93379288e-076,\n",
       "       -6.21475434e-077, -2.46861190e-077, -1.32547266e-079,\n",
       "       -1.23011318e-080, -1.32265965e-081, -3.19534678e-082,\n",
       "       -9.04502751e-085, -5.11720992e-085, -4.18925742e-088,\n",
       "       -4.00119259e-088, -1.30488643e-088, -9.38962650e-092,\n",
       "       -8.19464157e-092, -2.75882408e-093, -5.55195025e-094,\n",
       "       -1.34131660e-094, -1.03984891e-094, -5.14545476e-098,\n",
       "       -2.27449181e-099, -1.92412184e-100, -1.46565521e-100,\n",
       "       -9.40911120e-102, -7.46984777e-103, -2.07010652e-105,\n",
       "       -5.82287169e-108, -3.89580279e-109, -3.99525476e-110,\n",
       "       -1.38796100e-110, -2.05558493e-111, -2.85748331e-116,\n",
       "       -1.12054323e-116, -3.80997083e-119, -4.21376783e-121,\n",
       "       -4.66809528e-122, -6.16505734e-123, -9.49123114e-126,\n",
       "       -4.66204857e-127, -3.42716174e-127, -1.71607182e-128,\n",
       "       -4.84810008e-129, -2.68739847e-130, -1.82393493e-134,\n",
       "       -7.24809722e-136, -7.93827161e-137, -6.16339907e-143,\n",
       "       -5.27485184e-147, -2.89618035e-152, -2.85929838e-153,\n",
       "       -1.68525340e-155, -3.83059372e-160, -3.94070916e-161,\n",
       "       -2.99049214e-162, -4.68566862e-164, -2.41692872e-169,\n",
       "       -4.05340091e-179, -3.14945636e-184, -1.06469781e-186,\n",
       "       -1.14340466e-188, -1.01144731e-190, -1.24175375e-191,\n",
       "       -3.66499413e-192, -6.31613841e-193, -4.38882292e-194,\n",
       "       -3.59559101e-197, -8.18040051e-202, -3.11624991e-203,\n",
       "       -1.90528204e-207, -3.08997591e-221, -1.83577860e-227,\n",
       "       -2.93282406e-233, -1.35789365e-260, -1.30252109e-261,\n",
       "       -5.43779688e-286, -2.02532556e-287, -4.99910778e-289,\n",
       "       -7.08475821e-300, -0.00000000e+000, -0.00000000e+000,\n",
       "       -0.00000000e+000, -0.00000000e+000, -0.00000000e+000,\n",
       "       -0.00000000e+000,  0.00000000e+000,  0.00000000e+000,\n",
       "        0.00000000e+000,  0.00000000e+000,  5.89905212e-309,\n",
       "        1.62492351e-303,  9.72286165e-289,  1.91400067e-283,\n",
       "        2.90630176e-277,  1.52166256e-265,  5.39126013e-264,\n",
       "        2.90579859e-230,  9.14379628e-229,  9.00401217e-226,\n",
       "        1.28009507e-221,  5.87654084e-220,  6.94316993e-220,\n",
       "        5.97946867e-214,  1.61511345e-209,  1.33716128e-207,\n",
       "        1.56494226e-205,  1.66981173e-198,  5.93185784e-196,\n",
       "        9.20567660e-184,  1.88485119e-178,  1.95921320e-175,\n",
       "        2.34106042e-175,  1.35275898e-171,  1.07856310e-167,\n",
       "        5.01665661e-166,  5.16825065e-166,  5.36968932e-164,\n",
       "        1.11536216e-163,  1.02071270e-161,  1.96078154e-161,\n",
       "        4.03834178e-161,  9.67769416e-154,  2.24165195e-147,\n",
       "        8.07117971e-145,  1.43082925e-139,  9.92276445e-135,\n",
       "        6.01316235e-133,  3.24715767e-131,  5.63080515e-131,\n",
       "        8.93458279e-126,  4.86403598e-125,  6.55023042e-125,\n",
       "        1.10291936e-124,  4.57659549e-121,  7.63430489e-119,\n",
       "        1.98194845e-118,  5.99298461e-118,  1.57739102e-113,\n",
       "        4.84258025e-113,  8.24605517e-113,  1.62120638e-109,\n",
       "        1.42444277e-107,  2.35283122e-106,  8.58854751e-105,\n",
       "        2.38877121e-104,  2.75971063e-100,  6.24119177e-100,\n",
       "        1.46621392e-098,  1.61860098e-097,  8.56273533e-096,\n",
       "        5.18793183e-095,  8.83048032e-095,  2.88104306e-094,\n",
       "        2.46738390e-093,  2.82285163e-092,  1.51404003e-090,\n",
       "        9.56488493e-089,  1.85342560e-087,  2.45435018e-087,\n",
       "        2.01783636e-085,  4.74136173e-084,  4.59690338e-083,\n",
       "        7.01096210e-083,  1.29135873e-082,  1.14941925e-081,\n",
       "        1.17613242e-080,  2.46894877e-080,  7.20563133e-077,\n",
       "        6.93370989e-076,  1.79624437e-075,  2.66799930e-075,\n",
       "        6.95611052e-072,  6.24392068e-070,  1.00009470e-069,\n",
       "        8.67227388e-069,  1.44298718e-068,  6.18666418e-067,\n",
       "        1.52700316e-065,  3.68289861e-065,  8.33750048e-064,\n",
       "        4.21907534e-062,  4.70927396e-062,  3.44372961e-061,\n",
       "        9.47038539e-061,  2.26991111e-059])"
      ]
     },
     "execution_count": 20,
     "metadata": {},
     "output_type": "execute_result"
    }
   ],
   "source": [
    "x_n = x**199\n",
    "x_n"
   ]
  },
  {
   "cell_type": "markdown",
   "metadata": {},
   "source": [
    "### With smaller dataset"
   ]
  },
  {
   "cell_type": "code",
   "execution_count": 16,
   "metadata": {},
   "outputs": [
    {
     "data": {
      "image/png": "[encoded data removed]",
      "text/plain": [
       "<Figure size 432x288 with 1 Axes>"
      ]
     },
     "metadata": {
      "needs_background": "light"
     },
     "output_type": "display_data"
    }
   ],
   "source": [
    "np.random.seed(330)\n",
    "x2 = np.random.uniform(-1, 1, 5)\n",
    "y2 = x2**2+ 0.1*x2 - 0.3\n",
    "# noise = np.random.normal(scale=0.05, size=x2.shape)\n",
    "# x2 = x2+noise\n",
    "noise = np.random.normal(scale=0.1, size=x2.shape)\n",
    "y2 = y2+noise\n",
    "\n",
    "xtest = np.array([-0.75, -0.25, 0.75])\n",
    "ytest = np.array([0.38, -0.18, 0.5])\n",
    "\n",
    "plt.scatter(x2, y2, color='g', marker='o', label='train_data')\n",
    "plt.scatter(xtest, ytest, color='orange', marker='o', label='test_data')\n",
    "plt.legend()\n",
    "\n",
    "ylim=plt.ylim()"
   ]
  },
  {
   "cell_type": "code",
   "execution_count": 18,
   "metadata": {},
   "outputs": [
    {
     "data": {
      "image/png": "[encoded data removed]",
      "text/plain": [
       "<Figure size 432x288 with 1 Axes>"
      ]
     },
     "metadata": {
      "needs_background": "light"
     },
     "output_type": "display_data"
    }
   ],
   "source": [
    "Tx = np.linspace(x2.min()-0.5, x2.max()+0.5, num=1000)\n",
    "Y2 = y2.reshape(-1,1)\n",
    "outs = []\n",
    "errs = []\n",
    "\n",
    "plt.scatter(x2, y2, color='g', marker='o', label='train_data', lw=4)\n",
    "for order in range(1,5):\n",
    "    X = get_input_for_polynomial(x2, order=order)\n",
    "    W = np.linalg.pinv(X) @ Y2\n",
    "    y_hat = X @ W\n",
    "\n",
    "    Err = ((y_hat - Y2)**2).mean()\n",
    "    \n",
    "    outs.append(y_hat)\n",
    "    errs.append(Err)\n",
    "\n",
    "    TX = get_input_for_polynomial(Tx, order=order)\n",
    "    Ty_hat = TX @ W\n",
    "    \n",
    "    plt.plot(Tx, Ty_hat, lw=2, label=f'order={order}')\n",
    "    \n",
    "plt.scatter(xtest, ytest, color='orange', marker='*', label='test_data', lw=3)\n",
    "plt.legend()\n",
    "plt.ylim(ylim)\n",
    "plt.savefig(\"poly_5_pts.svg\")"
   ]
  },
  {
   "cell_type": "markdown",
   "metadata": {},
   "source": [
    "## Test Dataset"
   ]
  },
  {
   "cell_type": "code",
   "execution_count": 32,
   "metadata": {},
   "outputs": [
    {
     "data": {
      "image/png": "[encoded data removed]",
      "text/plain": [
       "<Figure size 432x288 with 1 Axes>"
      ]
     },
     "metadata": {
      "needs_background": "light"
     },
     "output_type": "display_data"
    }
   ],
   "source": [
    "np.random.seed(127)\n",
    "x_test = np.random.uniform(size=40)\n",
    "noise = np.random.normal(0,0.02, x_test.shape)\n",
    "x_test = x_test + noise\n",
    "x_test = np.sort(x_test)\n",
    "\n",
    "y_test = np.cos(x_test)+0.8*x_test -0.5 \n",
    "noise = np.random.normal(0,0.03, x_test.shape)\n",
    "y_test = y_test + noise\n",
    "x_test = x_test - xmean\n",
    "\n",
    "%matplotlib inline\n",
    "plt.scatter(x, y, marker='.', color='g', label='train_data')\n",
    "plt.scatter(x_test, y_test, marker='.', color='orange', label='test_data')\n",
    "\n",
    "plt.xlabel(\"X(input)\")\n",
    "plt.ylabel(\"y(output)\")\n",
    "plt.legend()\n",
    "plt.savefig(\"train_test_data_set.svg\")"
   ]
  },
  {
   "cell_type": "markdown",
   "metadata": {},
   "source": [
    "#### Saving the errors"
   ]
  },
  {
   "cell_type": "code",
   "execution_count": 33,
   "metadata": {},
   "outputs": [
    {
     "data": {
      "image/png": "[encoded data removed]",
      "text/plain": [
       "<Figure size 432x288 with 1 Axes>"
      ]
     },
     "metadata": {
      "needs_background": "light"
     },
     "output_type": "display_data"
    }
   ],
   "source": [
    "%matplotlib tk\n",
    "fig = plt.figure()\n",
    "ax = fig.add_subplot(1, 1, 1)\n",
    "plt.ion()\n",
    "fig.show()\n",
    "fig.canvas.draw()\n",
    "\n",
    "Y = y.reshape(-1,1)\n",
    "Tx = np.linspace(x.min(), x.max(), num=1000)\n",
    "\n",
    "o1 = np.arange(1, 8)\n",
    "o2 = np.arange(10, 30, 4)\n",
    "o3 = np.arange(30, 110, 20)\n",
    "o4 = np.array([120, 150, 199])\n",
    "orders = np.concatenate([o1,o2,o3,o4])\n",
    "\n",
    "train_errs = []\n",
    "test_errs = []\n",
    "\n",
    "writer = ImageMagickWriter(fps=1)\n",
    "with writer.saving(fig, \"train_test_errors.gif\", 100):\n",
    "    for order in orders:\n",
    "        X = get_input_for_polynomial(x, order=order)\n",
    "        W = np.linalg.pinv(X) @ Y\n",
    "        y_hat = X @ W\n",
    "\n",
    "        Err = ((y_hat - Y)**2).mean()\n",
    "        train_errs.append(Err)\n",
    "\n",
    "        Xt = get_input_for_polynomial(x_test, order=order)\n",
    "        y_hatt = Xt @ W\n",
    "        Errt = ((y_hatt - y_test.reshape(-1,1))**2).mean()\n",
    "        test_errs.append(Errt)\n",
    "        \n",
    "        TX = get_input_for_polynomial(Tx, order=order)\n",
    "        Ty_hat = TX @ W\n",
    "\n",
    "        ax.clear()\n",
    "        plt.scatter(x, y, marker='.', color='g', label='train_data')\n",
    "        plt.scatter(x_test, y_test, marker='.', color='orange', label='test_data')\n",
    "        plt.plot(Tx, Ty_hat, lw=3, color='r', label='prediction')\n",
    "        plt.text(-0.53,0.95,f'order = {order}, MSE_Train = {Err:6f}, MSE_Test = {Errt:6f}')\n",
    "\n",
    "        plt.xlabel(\"X(input)\")\n",
    "        plt.ylabel(\"y(output)\")\n",
    "        plt.legend()    \n",
    "        \n",
    "        fig.canvas.draw()\n",
    "        plt.pause(0.7)\n",
    "        writer.grab_frame()            "
   ]
  },
  {
   "cell_type": "code",
   "execution_count": 52,
   "metadata": {},
   "outputs": [
    {
     "data": {
      "image/png": "[encoded data removed]",
      "text/plain": [
       "<Figure size 800x480 with 1 Axes>"
      ]
     },
     "metadata": {},
     "output_type": "display_data"
    }
   ],
   "source": [
    "fig = plt.figure(num=None, figsize=(10, 6), dpi=80, facecolor='w', edgecolor='k')\n",
    "ax = fig.add_subplot(1, 1, 1)\n",
    "\n",
    "plt.plot(train_errs, label='train_error', marker='o')\n",
    "plt.plot(test_errs, label='test_error', marker='o')\n",
    "plt.legend()\n",
    "for i in range(len(orders)):\n",
    "    plt.annotate(f'{orders[i]}', (i-0.15, test_errs[i]+0.000025))\n",
    "ax.set_xticks(np.arange(len(orders)))\n",
    "plt.grid()\n",
    "plt.ylabel(\"Error\")\n",
    "plt.savefig('best_degree_fit.svg')"
   ]
  },
  {
   "cell_type": "code",
   "execution_count": 54,
   "metadata": {},
   "outputs": [
    {
     "data": {
      "text/plain": [
       "array([[ 0.77844202],\n",
       "       [ 0.33814713],\n",
       "       [-0.46011941]])"
      ]
     },
     "execution_count": 54,
     "metadata": {},
     "output_type": "execute_result"
    }
   ],
   "source": [
    "X = get_input_for_polynomial(x, order=2)\n",
    "W = np.linalg.pinv(X) @ Y\n",
    "W"
   ]
  },
  {
   "cell_type": "code",
   "execution_count": 55,
   "metadata": {},
   "outputs": [],
   "source": [
    "import pandas as pd"
   ]
  },
  {
   "cell_type": "code",
   "execution_count": 56,
   "metadata": {},
   "outputs": [
    {
     "data": {
      "text/html": [
       "<div>\n",
       "<style scoped>\n",
       "    .dataframe tbody tr th:only-of-type {\n",
       "        vertical-align: middle;\n",
       "    }\n",
       "\n",
       "    .dataframe tbody tr th {\n",
       "        vertical-align: top;\n",
       "    }\n",
       "\n",
       "    .dataframe thead th {\n",
       "        text-align: right;\n",
       "    }\n",
       "</style>\n",
       "<table border=\"1\" class=\"dataframe\">\n",
       "  <thead>\n",
       "    <tr style=\"text-align: right;\">\n",
       "      <th></th>\n",
       "      <th>order_poly</th>\n",
       "      <th>train_error</th>\n",
       "      <th>test_error</th>\n",
       "    </tr>\n",
       "  </thead>\n",
       "  <tbody>\n",
       "    <tr>\n",
       "      <th>0</th>\n",
       "      <td>1</td>\n",
       "      <td>0.002033259000068</td>\n",
       "      <td>0.001642156233707</td>\n",
       "    </tr>\n",
       "    <tr>\n",
       "      <th>1</th>\n",
       "      <td>2</td>\n",
       "      <td>0.000807006586623</td>\n",
       "      <td>0.000593919890021</td>\n",
       "    </tr>\n",
       "    <tr>\n",
       "      <th>2</th>\n",
       "      <td>3</td>\n",
       "      <td>0.000795324763721</td>\n",
       "      <td>0.000608359925575</td>\n",
       "    </tr>\n",
       "    <tr>\n",
       "      <th>3</th>\n",
       "      <td>4</td>\n",
       "      <td>0.000792686951924</td>\n",
       "      <td>0.000602793760356</td>\n",
       "    </tr>\n",
       "    <tr>\n",
       "      <th>4</th>\n",
       "      <td>5</td>\n",
       "      <td>0.000790823190330</td>\n",
       "      <td>0.000617083083767</td>\n",
       "    </tr>\n",
       "    <tr>\n",
       "      <th>5</th>\n",
       "      <td>6</td>\n",
       "      <td>0.000789444789347</td>\n",
       "      <td>0.000620974474399</td>\n",
       "    </tr>\n",
       "    <tr>\n",
       "      <th>6</th>\n",
       "      <td>7</td>\n",
       "      <td>0.000786255827090</td>\n",
       "      <td>0.000632399850820</td>\n",
       "    </tr>\n",
       "    <tr>\n",
       "      <th>7</th>\n",
       "      <td>10</td>\n",
       "      <td>0.000781332533796</td>\n",
       "      <td>0.000616143470111</td>\n",
       "    </tr>\n",
       "    <tr>\n",
       "      <th>8</th>\n",
       "      <td>14</td>\n",
       "      <td>0.000722849424580</td>\n",
       "      <td>0.000679828905533</td>\n",
       "    </tr>\n",
       "    <tr>\n",
       "      <th>9</th>\n",
       "      <td>18</td>\n",
       "      <td>0.000689916661399</td>\n",
       "      <td>0.000680753118786</td>\n",
       "    </tr>\n",
       "    <tr>\n",
       "      <th>10</th>\n",
       "      <td>22</td>\n",
       "      <td>0.000684481700054</td>\n",
       "      <td>0.000711187647526</td>\n",
       "    </tr>\n",
       "    <tr>\n",
       "      <th>11</th>\n",
       "      <td>26</td>\n",
       "      <td>0.000672880077702</td>\n",
       "      <td>0.000747457140182</td>\n",
       "    </tr>\n",
       "    <tr>\n",
       "      <th>12</th>\n",
       "      <td>30</td>\n",
       "      <td>0.000672518742675</td>\n",
       "      <td>0.000751413455565</td>\n",
       "    </tr>\n",
       "    <tr>\n",
       "      <th>13</th>\n",
       "      <td>50</td>\n",
       "      <td>0.000672548438997</td>\n",
       "      <td>0.000751360924520</td>\n",
       "    </tr>\n",
       "    <tr>\n",
       "      <th>14</th>\n",
       "      <td>70</td>\n",
       "      <td>0.000672548439092</td>\n",
       "      <td>0.000751360916560</td>\n",
       "    </tr>\n",
       "    <tr>\n",
       "      <th>15</th>\n",
       "      <td>90</td>\n",
       "      <td>0.000672548439092</td>\n",
       "      <td>0.000751360916560</td>\n",
       "    </tr>\n",
       "    <tr>\n",
       "      <th>16</th>\n",
       "      <td>120</td>\n",
       "      <td>0.000672548439092</td>\n",
       "      <td>0.000751360916560</td>\n",
       "    </tr>\n",
       "    <tr>\n",
       "      <th>17</th>\n",
       "      <td>150</td>\n",
       "      <td>0.000672548439106</td>\n",
       "      <td>0.000751360940926</td>\n",
       "    </tr>\n",
       "    <tr>\n",
       "      <th>18</th>\n",
       "      <td>199</td>\n",
       "      <td>0.000672548439040</td>\n",
       "      <td>0.000751360929604</td>\n",
       "    </tr>\n",
       "  </tbody>\n",
       "</table>\n",
       "</div>"
      ],
      "text/plain": [
       "    order_poly       train_error        test_error\n",
       "0            1 0.002033259000068 0.001642156233707\n",
       "1            2 0.000807006586623 0.000593919890021\n",
       "2            3 0.000795324763721 0.000608359925575\n",
       "3            4 0.000792686951924 0.000602793760356\n",
       "4            5 0.000790823190330 0.000617083083767\n",
       "5            6 0.000789444789347 0.000620974474399\n",
       "6            7 0.000786255827090 0.000632399850820\n",
       "7           10 0.000781332533796 0.000616143470111\n",
       "8           14 0.000722849424580 0.000679828905533\n",
       "9           18 0.000689916661399 0.000680753118786\n",
       "10          22 0.000684481700054 0.000711187647526\n",
       "11          26 0.000672880077702 0.000747457140182\n",
       "12          30 0.000672518742675 0.000751413455565\n",
       "13          50 0.000672548438997 0.000751360924520\n",
       "14          70 0.000672548439092 0.000751360916560\n",
       "15          90 0.000672548439092 0.000751360916560\n",
       "16         120 0.000672548439092 0.000751360916560\n",
       "17         150 0.000672548439106 0.000751360940926\n",
       "18         199 0.000672548439040 0.000751360929604"
      ]
     },
     "execution_count": 56,
     "metadata": {},
     "output_type": "execute_result"
    }
   ],
   "source": [
    "table = np.c_[orders, np.array(train_errs), np.array(test_errs)]\n",
    "df = pd.DataFrame(data=table, columns=['order_poly','train_error', 'test_error' ])\n",
    "df.order_poly = df.order_poly.astype(int)\n",
    "pd.options.display.float_format = '{:,.15f}'.format\n",
    "df"
   ]
  },
  {
   "cell_type": "markdown",
   "metadata": {},
   "source": [
    "### With gradient descent"
   ]
  },
  {
   "cell_type": "code",
   "execution_count": 81,
   "metadata": {},
   "outputs": [
    {
     "data": {
      "text/plain": [
       "(0.18596531220043622, 0.02962395978488391, -0.5718094826593835)"
      ]
     },
     "execution_count": 81,
     "metadata": {},
     "output_type": "execute_result"
    }
   ],
   "source": [
    "np.random.seed(127)\n",
    "E = 1e10\n",
    "Eprev = None\n",
    "a2 = np.random.normal(loc=0)\n",
    "a1 = np.random.normal(loc=0)\n",
    "a0 = np.random.uniform()\n",
    "a0,a1,a2"
   ]
  },
  {
   "cell_type": "code",
   "execution_count": 82,
   "metadata": {},
   "outputs": [
    {
     "name": "stdout",
     "output_type": "stream",
     "text": [
      "step =  0\n",
      "Error =  0.37136244491538806\n",
      "\n",
      "step =  20\n",
      "Error =  0.011770432698312999\n",
      "\n",
      "step =  40\n",
      "Error =  0.0049913709860665255\n",
      "\n",
      "step =  60\n",
      "Error =  0.0037337744840764313\n",
      "\n",
      "step =  80\n",
      "Error =  0.002891030326414295\n",
      "\n",
      "step =  100\n",
      "Error =  0.002292848311029054\n",
      "\n",
      "step =  120\n",
      "Error =  0.0018677184961655257\n",
      "\n",
      "step =  140\n",
      "Error =  0.0015655392473302803\n",
      "\n",
      "step =  160\n",
      "Error =  0.0013507220890645205\n",
      "\n",
      "step =  180\n",
      "Error =  0.001197980545604122\n",
      "\n",
      "step =  200\n",
      "Error =  0.0010893478454632067\n",
      "\n",
      "step =  220\n",
      "Error =  0.001012058061766582\n",
      "\n",
      "step =  240\n",
      "Error =  0.0009570406078610503\n",
      "\n",
      "step =  260\n",
      "Error =  0.0009178505362445262\n",
      "\n",
      "step =  280\n",
      "Error =  0.0008899084873622718\n",
      "\n",
      "step =  300\n",
      "Error =  0.0008699606529027487\n",
      "\n",
      "step =  320\n",
      "Error =  0.0008556950652712974\n",
      "\n",
      "step =  340\n",
      "Error =  0.0008454689609882543\n",
      "\n",
      "step =  360\n",
      "Error =  0.0008381150650770908\n",
      "\n",
      "step =  380\n",
      "Error =  0.0008328039509240185\n",
      "\n",
      "step =  400\n",
      "Error =  0.0008289462432580827\n",
      "\n",
      "step =  420\n",
      "Error =  0.000826123130732877\n",
      "\n",
      "step =  440\n",
      "Error =  0.0008240369932367314\n",
      "\n",
      "step =  460\n",
      "Error =  0.0008224763212551571\n",
      "\n",
      "step =  480\n",
      "Error =  0.0008212907901185905\n",
      "\n",
      "step =  500\n",
      "Error =  0.0008203735495678313\n",
      "\n",
      "step =  520\n",
      "Error =  0.0008196486399958739\n",
      "\n",
      "step =  540\n",
      "Error =  0.00081906205133071\n",
      "\n",
      "step =  560\n",
      "Error =  0.0008185753701122891\n",
      "\n",
      "step =  580\n",
      "Error =  0.0008181612655510087\n",
      "\n",
      "step =  600\n",
      "Error =  0.0008178002822321416\n",
      "\n",
      "step =  620\n",
      "Error =  0.0008174785612275502\n",
      "\n",
      "step =  640\n",
      "Error =  0.0008171862208659921\n",
      "\n",
      "step =  660\n",
      "Error =  0.0008169162062089066\n",
      "\n",
      "step =  680\n",
      "Error =  0.0008166634715543686\n",
      "\n",
      "step =  700\n",
      "Error =  0.00081642439956686\n",
      "\n",
      "step =  720\n",
      "Error =  0.0008161963885364027\n",
      "\n",
      "step =  740\n",
      "Error =  0.0008159775590984708\n",
      "\n",
      "step =  760\n",
      "Error =  0.0008157665458343713\n",
      "\n",
      "step =  780\n",
      "Error =  0.0008155623491818161\n",
      "\n",
      "step =  800\n",
      "Error =  0.000815364230197873\n",
      "\n",
      "step =  820\n",
      "Error =  0.000815171635770025\n",
      "\n",
      "step =  840\n",
      "Error =  0.0008149841454617672\n",
      "\n",
      "step =  860\n",
      "Error =  0.0008148014337304598\n",
      "\n",
      "step =  880\n",
      "Error =  0.0008146232430679126\n",
      "\n",
      "step =  900\n",
      "Error =  0.0008144493649021806\n",
      "\n",
      "step =  920\n",
      "Error =  0.0008142796260142262\n",
      "\n",
      "step =  940\n",
      "Error =  0.0008141138788733489\n",
      "\n",
      "step =  960\n",
      "Error =  0.0008139519947573011\n",
      "\n",
      "step =  980\n",
      "Error =  0.0008137938588513006\n",
      "\n",
      "step =  1000\n",
      "Error =  0.0008136393667533809\n",
      "\n",
      "step =  1020\n",
      "Error =  0.00081348842197927\n",
      "\n",
      "step =  1040\n",
      "Error =  0.0008133409341777309\n",
      "\n",
      "step =  1060\n",
      "Error =  0.0008131968178509779\n",
      "\n",
      "step =  1080\n",
      "Error =  0.0008130559914342163\n",
      "\n",
      "step =  1100\n",
      "Error =  0.000812918376630618\n",
      "\n",
      "step =  1120\n",
      "Error =  0.0008127838979280311\n",
      "\n",
      "step =  1140\n",
      "Error =  0.000812652482245063\n",
      "\n",
      "step =  1160\n",
      "Error =  0.000812524058669334\n",
      "\n",
      "step =  1180\n",
      "Error =  0.0008123985582614435\n",
      "\n",
      "step =  1200\n",
      "Error =  0.0008122759139058628\n",
      "\n",
      "step =  1220\n",
      "Error =  0.0008121560601953914\n",
      "\n",
      "step =  1240\n",
      "Error =  0.0008120389333396806\n",
      "\n",
      "step =  1260\n",
      "Error =  0.0008119244710910678\n",
      "\n",
      "step =  1280\n",
      "Error =  0.0008118126126829227\n",
      "\n",
      "step =  1300\n",
      "Error =  0.0008117032987770859\n",
      "\n",
      "step =  1320\n",
      "Error =  0.0008115964714179645\n",
      "\n",
      "step =  1340\n",
      "Error =  0.0008114920739915598\n",
      "\n",
      "step =  1360\n",
      "Error =  0.0008113900511881783\n",
      "\n",
      "step =  1380\n",
      "Error =  0.0008112903489679574\n",
      "\n",
      "step =  1400\n",
      "Error =  0.0008111929145285617\n",
      "\n",
      "step =  1420\n",
      "Error =  0.0008110976962746092\n",
      "\n",
      "step =  1440\n",
      "Error =  0.0008110046437884925\n",
      "\n",
      "step =  1460\n",
      "Error =  0.0008109137078023634\n",
      "\n",
      "step =  1480\n",
      "Error =  0.0008108248401711104\n",
      "\n",
      "step =  1500\n",
      "Error =  0.0008107379938462059\n",
      "\n",
      "step =  1520\n",
      "Error =  0.0008106531228503193\n",
      "\n",
      "step =  1540\n",
      "Error =  0.0008105701822526445\n",
      "\n",
      "step =  1560\n",
      "Error =  0.0008104891281448733\n",
      "\n",
      "step =  1580\n",
      "Error =  0.0008104099176177809\n",
      "\n",
      "step =  1600\n",
      "Error =  0.0008103325087383872\n",
      "\n",
      "step =  1620\n",
      "Error =  0.0008102568605276772\n",
      "\n",
      "step =  1640\n",
      "Error =  0.0008101829329388434\n",
      "\n",
      "step =  1660\n",
      "Error =  0.0008101106868360411\n",
      "\n",
      "step =  1680\n",
      "Error =  0.000810040083973644\n",
      "\n",
      "step =  1700\n",
      "Error =  0.0008099710869759728\n",
      "\n",
      "step =  1720\n",
      "Error =  0.0008099036593174941\n",
      "\n",
      "step =  1740\n",
      "Error =  0.0008098377653034756\n",
      "\n",
      "step =  1760\n",
      "Error =  0.0008097733700510789\n",
      "\n",
      "step =  1780\n",
      "Error =  0.0008097104394708904\n",
      "\n",
      "step =  1800\n",
      "Error =  0.0008096489402488709\n",
      "\n",
      "step =  1820\n",
      "Error =  0.0008095888398287163\n",
      "\n",
      "step =  1840\n",
      "Error =  0.0008095301063946197\n",
      "\n",
      "step =  1860\n",
      "Error =  0.0008094727088544321\n",
      "\n",
      "step =  1880\n",
      "Error =  0.0008094166168231955\n",
      "\n",
      "step =  1900\n",
      "Error =  0.0008093618006070634\n",
      "\n",
      "step =  1920\n",
      "Error =  0.0008093082311875752\n",
      "\n",
      "step =  1940\n",
      "Error =  0.0008092558802062986\n",
      "\n",
      "step =  1960\n",
      "Error =  0.0008092047199498153\n",
      "\n",
      "step =  1980\n",
      "Error =  0.0008091547233350496\n",
      "\n",
      "step =  2000\n",
      "Error =  0.0008091058638949312\n",
      "\n",
      "step =  2020\n",
      "Error =  0.0008090581157643856\n",
      "\n",
      "step =  2040\n",
      "Error =  0.000809011453666639\n",
      "\n",
      "step =  2060\n",
      "Error =  0.0008089658528998403\n",
      "\n",
      "step =  2080\n",
      "Error =  0.0008089212893239814\n",
      "\n",
      "step =  2100\n",
      "Error =  0.00080887773934812\n",
      "\n",
      "step =  2120\n",
      "Error =  0.0008088351799178909\n",
      "\n",
      "step =  2140\n",
      "Error =  0.0008087935885033009\n",
      "\n",
      "step =  2160\n",
      "Error =  0.0008087529430868028\n",
      "\n",
      "step =  2180\n",
      "Error =  0.0008087132221516394\n",
      "\n",
      "step =  2200\n",
      "Error =  0.0008086744046704511\n",
      "\n",
      "step =  2220\n",
      "Error =  0.0008086364700941485\n",
      "\n",
      "step =  2240\n",
      "Error =  0.0008085993983410305\n",
      "\n",
      "step =  2260\n",
      "Error =  0.0008085631697861553\n",
      "\n",
      "step =  2280\n",
      "Error =  0.0008085277652509513\n",
      "\n",
      "step =  2300\n",
      "Error =  0.0008084931659930644\n",
      "\n",
      "step =  2320\n",
      "Error =  0.0008084593536964347\n",
      "\n",
      "step =  2340\n",
      "Error =  0.0008084263104616035\n",
      "\n",
      "step =  2360\n",
      "Error =  0.0008083940187962344\n",
      "\n",
      "step =  2380\n",
      "Error =  0.0008083624616058552\n",
      "\n",
      "step =  2400\n",
      "Error =  0.000808331622184808\n",
      "\n",
      "step =  2420\n",
      "Error =  0.0008083014842074066\n",
      "\n",
      "step =  2440\n",
      "Error =  0.0008082720317192908\n",
      "\n",
      "step =  2460\n",
      "Error =  0.0008082432491289859\n",
      "\n",
      "step =  2480\n",
      "Error =  0.0008082151211996431\n",
      "\n",
      "step =  2500\n",
      "Error =  0.0008081876330409771\n",
      "\n",
      "step =  2520\n",
      "Error =  0.0008081607701013841\n",
      "\n",
      "step =  2540\n",
      "Error =  0.0008081345181602349\n",
      "\n",
      "step =  2560\n",
      "Error =  0.000808108863320349\n",
      "\n",
      "step =  2580\n",
      "Error =  0.0008080837920006398\n",
      "\n",
      "step =  2600\n",
      "Error =  0.0008080592909289217\n",
      "\n",
      "step =  2620\n",
      "Error =  0.0008080353471348846\n",
      "\n",
      "step =  2640\n",
      "Error =  0.0008080119479432303\n",
      "\n",
      "step =  2660\n",
      "Error =  0.0008079890809669585\n",
      "\n",
      "step =  2680\n",
      "Error =  0.000807966734100814\n",
      "\n",
      "step =  2700\n",
      "Error =  0.0008079448955148736\n",
      "\n",
      "step =  2720\n",
      "Error =  0.0008079235536482889\n",
      "\n",
      "step =  2740\n",
      "Error =  0.0008079026972031605\n",
      "\n",
      "step =  2760\n",
      "Error =  0.0008078823151385625\n",
      "\n",
      "step =  2780\n",
      "Error =  0.0008078623966646931\n",
      "\n",
      "(-0.5679516194791047, 0.5638597776169901)\n",
      "(0.39317623114955275, 0.9407836786747326)\n",
      "Optimized to our threshold\n"
     ]
    }
   ],
   "source": [
    "n = len(x)\n",
    "alpha = 0.1\n",
    "epsilon = 1e-9\n",
    "\n",
    "%matplotlib tk\n",
    "fig = plt.figure()\n",
    "ax = fig.add_subplot(1, 1, 1)\n",
    "plt.ion()\n",
    "fig.show()\n",
    "fig.canvas.draw()\n",
    "# fig.set_animated(True)\n",
    "\n",
    "val_list = []\n",
    "writer = ImageMagickWriter(fps=10)\n",
    "\n",
    "with writer.saving(fig, \"poly_regression_gd_anim.gif\", 100):\n",
    "    for step in range(10000000):\n",
    "        #### Set Previous error\n",
    "        Eprev = E    \n",
    "        #### calculating output\n",
    "        y_hat = a0 + a1*x + a2*x**2\n",
    "        #### calculating error\n",
    "        E = ((y-y_hat)**2).mean()\n",
    "\n",
    "        #### calculating gradients\n",
    "        dy = y_hat - y\n",
    "        da0 = dy.sum()/n\n",
    "        da1 = (dy*x).sum()/n\n",
    "        da2 = (dy*x*x).sum()/n\n",
    "\n",
    "\n",
    "        a0 = a0 - alpha*da0\n",
    "        a1 = a1 - alpha*da1\n",
    "        a2 = a2 - alpha*da2\n",
    "\n",
    "        val_list.append((E,a0, a1, a2))\n",
    "\n",
    "        if step%20 == 0:\n",
    "            print(\"step = \",step)\n",
    "            print(\"Error = \", E)\n",
    "\n",
    "            ax.clear()\n",
    "            plt.xlabel(\"X(input)\")\n",
    "            plt.ylabel(\"y(output)\")\n",
    "            plt.scatter(x, y, marker='.', color='g', label='data')\n",
    "            plt.scatter(x, y_hat, marker='.', color='r', label='prediction')\n",
    "            plt.text(-0.53,0.97,f'Step={step}, E={E:.6f} --> a0={a0:.5f} a1={a1:.5f} a2={a2:.5f}')\n",
    "            plt.legend()\n",
    "\n",
    "            plt.xlim((-0.5679516194791047, 0.5638597776169901))\n",
    "            plt.ylim((0.39317623114955275, 0.9407836786747326))\n",
    "            fig.canvas.draw()\n",
    "            plt.pause(0.01)\n",
    "            writer.grab_frame()\n",
    "            print()\n",
    "            if Eprev-E < epsilon:\n",
    "                print(plt.xlim())\n",
    "                print(plt.ylim())\n",
    "\n",
    "                print('Optimized to our threshold')\n",
    "                plt.pause(2)\n",
    "                break"
   ]
  },
  {
   "cell_type": "code",
   "execution_count": 83,
   "metadata": {},
   "outputs": [
    {
     "data": {
      "text/plain": [
       "(0.7794814744851586, 0.33816317383747035, -0.4722675670800199)"
      ]
     },
     "execution_count": 83,
     "metadata": {},
     "output_type": "execute_result"
    }
   ],
   "source": [
    "a0, a1, a2"
   ]
  },
  {
   "cell_type": "markdown",
   "metadata": {},
   "source": [
    "## Using the matrix"
   ]
  },
  {
   "cell_type": "code",
   "execution_count": 95,
   "metadata": {},
   "outputs": [
    {
     "data": {
      "text/plain": [
       "array([[ 0.18596531],\n",
       "       [ 0.02962396],\n",
       "       [-0.57180948]])"
      ]
     },
     "execution_count": 95,
     "metadata": {},
     "output_type": "execute_result"
    }
   ],
   "source": [
    "np.random.seed(127)\n",
    "E = 1e10\n",
    "Eprev = None\n",
    "a2 = np.random.normal(loc=0)\n",
    "a1 = np.random.normal(loc=0)\n",
    "a0 = np.random.uniform()\n",
    "a0,a1,a2\n",
    "A = np.array([\n",
    "    [a0,],\n",
    "    [a1,],\n",
    "    [a2,],\n",
    "])\n",
    "A"
   ]
  },
  {
   "cell_type": "code",
   "execution_count": 96,
   "metadata": {},
   "outputs": [
    {
     "name": "stdout",
     "output_type": "stream",
     "text": [
      "step =  0\n",
      "Error =  0.37136244491538806\n",
      "\n",
      "step =  20\n",
      "Error =  0.011770432698312999\n",
      "\n",
      "step =  40\n",
      "Error =  0.004991370986066524\n",
      "\n",
      "step =  60\n",
      "Error =  0.003733774484076432\n",
      "\n",
      "step =  80\n",
      "Error =  0.0028910303264142955\n",
      "\n",
      "step =  100\n",
      "Error =  0.002292848311029055\n",
      "\n",
      "step =  120\n",
      "Error =  0.0018677184961655264\n",
      "\n",
      "step =  140\n",
      "Error =  0.0015655392473302803\n",
      "\n",
      "step =  160\n",
      "Error =  0.0013507220890645205\n",
      "\n",
      "step =  180\n",
      "Error =  0.001197980545604122\n",
      "\n",
      "step =  200\n",
      "Error =  0.0010893478454632067\n",
      "\n",
      "step =  220\n",
      "Error =  0.001012058061766582\n",
      "\n",
      "step =  240\n",
      "Error =  0.0009570406078610503\n",
      "\n",
      "step =  260\n",
      "Error =  0.0009178505362445262\n",
      "\n",
      "step =  280\n",
      "Error =  0.0008899084873622718\n",
      "\n",
      "step =  300\n",
      "Error =  0.0008699606529027487\n",
      "\n",
      "step =  320\n",
      "Error =  0.0008556950652712974\n",
      "\n",
      "step =  340\n",
      "Error =  0.0008454689609882543\n",
      "\n",
      "step =  360\n",
      "Error =  0.0008381150650770908\n",
      "\n",
      "step =  380\n",
      "Error =  0.0008328039509240185\n",
      "\n",
      "step =  400\n",
      "Error =  0.0008289462432580827\n",
      "\n",
      "step =  420\n",
      "Error =  0.000826123130732877\n",
      "\n",
      "step =  440\n",
      "Error =  0.0008240369932367314\n",
      "\n",
      "step =  460\n",
      "Error =  0.0008224763212551571\n",
      "\n",
      "step =  480\n",
      "Error =  0.0008212907901185905\n",
      "\n",
      "step =  500\n",
      "Error =  0.0008203735495678313\n",
      "\n",
      "step =  520\n",
      "Error =  0.0008196486399958739\n",
      "\n",
      "step =  540\n",
      "Error =  0.00081906205133071\n",
      "\n",
      "step =  560\n",
      "Error =  0.0008185753701122891\n",
      "\n",
      "step =  580\n",
      "Error =  0.0008181612655510087\n",
      "\n",
      "step =  600\n",
      "Error =  0.0008178002822321416\n",
      "\n",
      "step =  620\n",
      "Error =  0.0008174785612275502\n",
      "\n",
      "step =  640\n",
      "Error =  0.0008171862208659921\n",
      "\n",
      "step =  660\n",
      "Error =  0.0008169162062089066\n",
      "\n",
      "step =  680\n",
      "Error =  0.0008166634715543686\n",
      "\n",
      "step =  700\n",
      "Error =  0.00081642439956686\n",
      "\n",
      "step =  720\n",
      "Error =  0.0008161963885364027\n",
      "\n",
      "step =  740\n",
      "Error =  0.0008159775590984708\n",
      "\n",
      "step =  760\n",
      "Error =  0.0008157665458343713\n",
      "\n",
      "step =  780\n",
      "Error =  0.0008155623491818161\n",
      "\n",
      "step =  800\n",
      "Error =  0.000815364230197873\n",
      "\n",
      "step =  820\n",
      "Error =  0.000815171635770025\n",
      "\n",
      "step =  840\n",
      "Error =  0.0008149841454617672\n",
      "\n",
      "step =  860\n",
      "Error =  0.0008148014337304598\n",
      "\n",
      "step =  880\n",
      "Error =  0.0008146232430679126\n",
      "\n",
      "step =  900\n",
      "Error =  0.0008144493649021806\n",
      "\n",
      "step =  920\n",
      "Error =  0.0008142796260142262\n",
      "\n",
      "step =  940\n",
      "Error =  0.0008141138788733489\n",
      "\n",
      "step =  960\n",
      "Error =  0.0008139519947573011\n",
      "\n",
      "step =  980\n",
      "Error =  0.0008137938588513006\n",
      "\n",
      "step =  1000\n",
      "Error =  0.0008136393667533809\n",
      "\n",
      "step =  1020\n",
      "Error =  0.00081348842197927\n",
      "\n",
      "step =  1040\n",
      "Error =  0.0008133409341777309\n",
      "\n",
      "step =  1060\n",
      "Error =  0.0008131968178509779\n",
      "\n",
      "step =  1080\n",
      "Error =  0.0008130559914342163\n",
      "\n",
      "step =  1100\n",
      "Error =  0.000812918376630618\n",
      "\n",
      "step =  1120\n",
      "Error =  0.0008127838979280311\n",
      "\n",
      "step =  1140\n",
      "Error =  0.000812652482245063\n",
      "\n",
      "step =  1160\n",
      "Error =  0.000812524058669334\n",
      "\n",
      "step =  1180\n",
      "Error =  0.0008123985582614435\n",
      "\n",
      "step =  1200\n",
      "Error =  0.0008122759139058628\n",
      "\n",
      "step =  1220\n",
      "Error =  0.0008121560601953914\n",
      "\n",
      "step =  1240\n",
      "Error =  0.0008120389333396806\n",
      "\n",
      "step =  1260\n",
      "Error =  0.0008119244710910678\n",
      "\n",
      "step =  1280\n",
      "Error =  0.0008118126126829227\n",
      "\n",
      "step =  1300\n",
      "Error =  0.0008117032987770859\n",
      "\n",
      "step =  1320\n",
      "Error =  0.0008115964714179645\n",
      "\n",
      "step =  1340\n",
      "Error =  0.0008114920739915598\n",
      "\n",
      "step =  1360\n",
      "Error =  0.0008113900511881783\n",
      "\n",
      "step =  1380\n",
      "Error =  0.0008112903489679574\n",
      "\n",
      "step =  1400\n",
      "Error =  0.0008111929145285617\n",
      "\n",
      "step =  1420\n",
      "Error =  0.0008110976962746092\n",
      "\n",
      "step =  1440\n",
      "Error =  0.0008110046437884925\n",
      "\n",
      "step =  1460\n",
      "Error =  0.0008109137078023634\n",
      "\n",
      "step =  1480\n",
      "Error =  0.0008108248401711104\n",
      "\n",
      "step =  1500\n",
      "Error =  0.0008107379938462059\n",
      "\n",
      "step =  1520\n",
      "Error =  0.0008106531228503193\n",
      "\n",
      "step =  1540\n",
      "Error =  0.0008105701822526445\n",
      "\n",
      "step =  1560\n",
      "Error =  0.0008104891281448733\n",
      "\n",
      "step =  1580\n",
      "Error =  0.0008104099176177809\n",
      "\n",
      "step =  1600\n",
      "Error =  0.0008103325087383872\n",
      "\n",
      "step =  1620\n",
      "Error =  0.0008102568605276772\n",
      "\n",
      "step =  1640\n",
      "Error =  0.0008101829329388434\n",
      "\n",
      "step =  1660\n",
      "Error =  0.0008101106868360411\n",
      "\n",
      "step =  1680\n",
      "Error =  0.000810040083973644\n",
      "\n",
      "step =  1700\n",
      "Error =  0.0008099710869759728\n",
      "\n",
      "step =  1720\n",
      "Error =  0.0008099036593174941\n",
      "\n",
      "step =  1740\n",
      "Error =  0.0008098377653034756\n",
      "\n",
      "step =  1760\n",
      "Error =  0.0008097733700510789\n",
      "\n",
      "step =  1780\n",
      "Error =  0.0008097104394708904\n",
      "\n",
      "step =  1800\n",
      "Error =  0.0008096489402488709\n",
      "\n",
      "step =  1820\n",
      "Error =  0.0008095888398287163\n",
      "\n",
      "step =  1840\n",
      "Error =  0.0008095301063946197\n",
      "\n",
      "step =  1860\n",
      "Error =  0.0008094727088544321\n",
      "\n",
      "step =  1880\n",
      "Error =  0.0008094166168231955\n",
      "\n",
      "step =  1900\n",
      "Error =  0.0008093618006070634\n",
      "\n",
      "step =  1920\n",
      "Error =  0.0008093082311875752\n",
      "\n",
      "step =  1940\n",
      "Error =  0.0008092558802062986\n",
      "\n",
      "step =  1960\n",
      "Error =  0.0008092047199498153\n",
      "\n",
      "step =  1980\n",
      "Error =  0.0008091547233350496\n",
      "\n",
      "step =  2000\n",
      "Error =  0.0008091058638949312\n",
      "\n",
      "step =  2020\n",
      "Error =  0.0008090581157643856\n",
      "\n",
      "step =  2040\n",
      "Error =  0.000809011453666639\n",
      "\n",
      "step =  2060\n",
      "Error =  0.0008089658528998403\n",
      "\n",
      "step =  2080\n",
      "Error =  0.0008089212893239814\n",
      "\n",
      "step =  2100\n",
      "Error =  0.00080887773934812\n",
      "\n",
      "step =  2120\n",
      "Error =  0.0008088351799178909\n",
      "\n",
      "step =  2140\n",
      "Error =  0.0008087935885033009\n",
      "\n",
      "step =  2160\n",
      "Error =  0.0008087529430868028\n",
      "\n",
      "step =  2180\n",
      "Error =  0.0008087132221516394\n",
      "\n",
      "step =  2200\n",
      "Error =  0.0008086744046704511\n",
      "\n",
      "step =  2220\n",
      "Error =  0.0008086364700941485\n",
      "\n",
      "step =  2240\n",
      "Error =  0.0008085993983410305\n",
      "\n",
      "step =  2260\n",
      "Error =  0.0008085631697861553\n",
      "\n",
      "step =  2280\n",
      "Error =  0.0008085277652509513\n",
      "\n",
      "step =  2300\n",
      "Error =  0.0008084931659930644\n",
      "\n",
      "step =  2320\n",
      "Error =  0.0008084593536964347\n",
      "\n",
      "step =  2340\n",
      "Error =  0.0008084263104616035\n",
      "\n",
      "step =  2360\n",
      "Error =  0.0008083940187962344\n",
      "\n",
      "step =  2380\n",
      "Error =  0.0008083624616058552\n",
      "\n",
      "step =  2400\n",
      "Error =  0.000808331622184808\n",
      "\n",
      "step =  2420\n",
      "Error =  0.0008083014842074066\n",
      "\n",
      "step =  2440\n",
      "Error =  0.0008082720317192908\n",
      "\n",
      "step =  2460\n",
      "Error =  0.0008082432491289859\n",
      "\n",
      "step =  2480\n",
      "Error =  0.0008082151211996431\n",
      "\n",
      "step =  2500\n",
      "Error =  0.0008081876330409771\n",
      "\n",
      "step =  2520\n",
      "Error =  0.0008081607701013841\n",
      "\n",
      "step =  2540\n",
      "Error =  0.0008081345181602349\n",
      "\n",
      "step =  2560\n",
      "Error =  0.000808108863320349\n",
      "\n",
      "step =  2580\n",
      "Error =  0.0008080837920006398\n",
      "\n",
      "step =  2600\n",
      "Error =  0.0008080592909289217\n",
      "\n",
      "step =  2620\n",
      "Error =  0.0008080353471348846\n",
      "\n",
      "step =  2640\n",
      "Error =  0.0008080119479432303\n",
      "\n",
      "step =  2660\n",
      "Error =  0.0008079890809669585\n",
      "\n",
      "step =  2680\n",
      "Error =  0.000807966734100814\n",
      "\n",
      "step =  2700\n",
      "Error =  0.0008079448955148736\n",
      "\n",
      "step =  2720\n",
      "Error =  0.0008079235536482889\n",
      "\n",
      "step =  2740\n",
      "Error =  0.0008079026972031605\n",
      "\n",
      "step =  2760\n",
      "Error =  0.0008078823151385625\n",
      "\n",
      "step =  2780\n",
      "Error =  0.0008078623966646931\n",
      "\n",
      "(-0.5679516194791047, 0.5638597776169901)\n",
      "(0.39317623114955275, 0.9407836786747326)\n",
      "Optimized to our threshold\n"
     ]
    }
   ],
   "source": [
    "n = len(x)\n",
    "alpha = 0.1\n",
    "epsilon = 1e-9\n",
    "X = get_input_for_polynomial(x, order=2)\n",
    "Y = y.reshape(-1,1)\n",
    "%matplotlib tk\n",
    "fig = plt.figure()\n",
    "ax = fig.add_subplot(1, 1, 1)\n",
    "plt.ion()\n",
    "fig.show()\n",
    "fig.canvas.draw()\n",
    "\n",
    "val_list = []\n",
    "writer = ImageMagickWriter(fps=10)\n",
    "\n",
    "with writer.saving(fig, \"poly_regression_gd_anim.gif\", 100):\n",
    "    for step in range(10000000):\n",
    "        #### Set Previous error\n",
    "        Eprev = E    \n",
    "        #### calculating output\n",
    "        y_hat = X@A\n",
    "        #### calculating error\n",
    "        E = ((Y-y_hat)**2).mean()\n",
    "\n",
    "        #### calculating gradients\n",
    "        dy = y_hat - Y\n",
    "        dA = X.T@dy/n\n",
    "\n",
    "        A = A - alpha*dA\n",
    "\n",
    "        val_list.append((E,A))\n",
    "\n",
    "        if step%20 == 0:\n",
    "            print(\"step = \",step)\n",
    "            print(\"Error = \", E)\n",
    "\n",
    "            ax.clear()\n",
    "            plt.xlabel(\"X(input)\")\n",
    "            plt.ylabel(\"y(output)\")\n",
    "            plt.scatter(x, y, marker='.', color='g', label='data')\n",
    "            plt.scatter(x, y_hat.reshape(-1), marker='.', color='r', label='prediction')\n",
    "            a0, a1, a2 = A[0,0],A[1,0],A[2,0]\n",
    "            plt.text(-0.53,0.97,f'Step={step}, E={E:.6f} --> a0={a0:.5f} a1={a1:.5f} a2={a2:.5f}')\n",
    "            plt.legend()\n",
    "\n",
    "            plt.xlim((-0.5679516194791047, 0.5638597776169901))\n",
    "            plt.ylim((0.39317623114955275, 0.9407836786747326))\n",
    "            fig.canvas.draw()\n",
    "            plt.pause(0.01)\n",
    "            writer.grab_frame()\n",
    "            print()\n",
    "            if Eprev-E < epsilon:\n",
    "                print(plt.xlim())\n",
    "                print(plt.ylim())\n",
    "\n",
    "                print('Optimized to our threshold')\n",
    "                plt.pause(2)\n",
    "                break"
   ]
  },
  {
   "cell_type": "code",
   "execution_count": 97,
   "metadata": {},
   "outputs": [
    {
     "data": {
      "text/plain": [
       "array([[ 0.77948147],\n",
       "       [ 0.33816317],\n",
       "       [-0.47226757]])"
      ]
     },
     "execution_count": 97,
     "metadata": {},
     "output_type": "execute_result"
    }
   ],
   "source": [
    "A"
   ]
  },
  {
   "cell_type": "code",
   "execution_count": 103,
   "metadata": {},
   "outputs": [
    {
     "data": {
      "text/plain": [
       "array([[ 0.77844202],\n",
       "       [ 0.33814713],\n",
       "       [-0.46011941]])"
      ]
     },
     "execution_count": 103,
     "metadata": {},
     "output_type": "execute_result"
    }
   ],
   "source": [
    "X = get_input_for_polynomial(x, order=2)\n",
    "Y = y.reshape(-1,1) \n",
    "W = np.linalg.pinv(X) @ Y\n",
    "W"
   ]
  },
  {
   "cell_type": "code",
   "execution_count": 108,
   "metadata": {},
   "outputs": [
    {
     "data": {
      "text/plain": [
       "(0.0008078623966646931, 0.000807006586622848)"
      ]
     },
     "execution_count": 108,
     "metadata": {},
     "output_type": "execute_result"
    }
   ],
   "source": [
    "y_hat = X @ W\n",
    "Err = ((y_hat - Y)**2).mean()\n",
    "E, Err"
   ]
  },
  {
   "cell_type": "markdown",
   "metadata": {},
   "source": [
    "### Error Plot"
   ]
  },
  {
   "cell_type": "code",
   "execution_count": 107,
   "metadata": {},
   "outputs": [
    {
     "data": {
      "text/plain": [
       "[<matplotlib.lines.Line2D at 0x7fb32a851fd0>]"
      ]
     },
     "execution_count": 107,
     "metadata": {},
     "output_type": "execute_result"
    },
    {
     "data": {
      "image/png": "[encoded data removed]",
      "text/plain": [
       "<Figure size 432x288 with 1 Axes>"
      ]
     },
     "metadata": {
      "needs_background": "light"
     },
     "output_type": "display_data"
    }
   ],
   "source": [
    "%matplotlib inline\n",
    "errors = np.array(val_list)[:,0]\n",
    "plt.plot(errors)\n",
    "plt.plot([Err]*len(errors))"
   ]
  },
  {
   "cell_type": "code",
   "execution_count": null,
   "metadata": {},
   "outputs": [],
   "source": []
  }
 ],
 "metadata": {
  "kernelspec": {
   "display_name": "Python 3",
   "language": "python",
   "name": "python3"
  },
  "language_info": {
   "codemirror_mode": {
    "name": "ipython",
    "version": 3
   },
   "file_extension": ".py",
   "mimetype": "text/x-python",
   "name": "python",
   "nbconvert_exporter": "python",
   "pygments_lexer": "ipython3",
   "version": "3.7.3"
  }
 },
 "nbformat": 4,
 "nbformat_minor": 2
}
